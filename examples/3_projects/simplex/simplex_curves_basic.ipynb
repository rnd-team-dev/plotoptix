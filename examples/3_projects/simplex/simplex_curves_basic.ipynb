{
 "cells": [
  {
   "cell_type": "code",
   "execution_count": 1,
   "metadata": {},
   "outputs": [],
   "source": [
    "import numpy as np\n",
    "import matplotlib\n",
    "\n",
    "from plotoptix import TkOptiX\n",
    "from plotoptix.materials import m_plastic, m_metallic\n",
    "from plotoptix.utils import make_color, simplex"
   ]
  },
  {
   "cell_type": "code",
   "execution_count": 2,
   "metadata": {},
   "outputs": [],
   "source": [
    "b = 200\n",
    "n = 100\n",
    "dt = 0.06\n",
    "\n",
    "inp = np.zeros((b, 3, 4), dtype=np.float32)\n",
    "xyz = np.stack((\n",
    "    np.random.normal(loc=0, scale=1, size=b),\n",
    "    np.random.normal(loc=0, scale=1, size=b),\n",
    "    np.random.normal(loc=0, scale=1, size=b))).T\n",
    "for c in range(b):\n",
    "    mag = np.linalg.norm(xyz[c])\n",
    "    xyz[c] *= np.sqrt(mag) / mag\n",
    "xyz[:,1] *= 2\n",
    "\n",
    "ofs = 50 * np.random.rand(3)\n",
    "for c in range(b):\n",
    "    inp[c,:,:3] = xyz[c]\n",
    "    inp[c,:,3] = ofs              # sync the 4'th dim of the noise\n",
    "\n",
    "pos = np.zeros((b, n, 3), dtype=np.float32)\n",
    "col = np.zeros((b, n, 3), dtype=np.float32)\n",
    "r = np.zeros((b, n), dtype=np.float32)\n",
    "\n",
    "rnd = simplex(inp)\n",
    "\n",
    "rprev = np.copy(rnd)\n",
    "cmap = matplotlib.colormaps[\"bone\"]\n",
    "for t in range(n):\n",
    "    rt = 2.0 * (t+1) / (n+2) - 1\n",
    "    rt = 1 - rt*rt\n",
    "    r[:,t] = 0.07 * rt * rt\n",
    "    for c in range(b):\n",
    "        mag = np.linalg.norm(rnd[c])\n",
    "        r[c,t] *= 0.2 + 0.8 * mag\n",
    "        \n",
    "        rnd[c] = (dt/mag) * rnd[c]   # normalize and scale the step size\n",
    "        inp[c,:,:3] += rnd[c]          # step in the field direction\n",
    "        pos[c,t] = inp[c,0,:3]\n",
    "        \n",
    "        fi = (1/(dt*dt)) * np.dot(rnd[c], rprev[c])\n",
    "        cc = cmap(np.power(2*fi-1,19))[:3]\n",
    "        col[c,t] = make_color(cc)\n",
    "        \n",
    "    rprev = np.copy(rnd)\n",
    "    rnd = simplex(inp, rnd)            # noise at the next pos"
   ]
  },
  {
   "cell_type": "code",
   "execution_count": 3,
   "metadata": {},
   "outputs": [],
   "source": [
    "rt = TkOptiX(start_now=False)\n",
    "rt.set_param(\n",
    "    min_accumulation_step=4,\n",
    "    max_accumulation_frames=500,\n",
    "    rt_timeout=100000,\n",
    "    light_shading=\"Soft\"\n",
    ")\n",
    "rt.set_uint(\"path_seg_range\", 6, 12)\n",
    "    \n",
    "rt.load_texture(\"bg_texture\", r\"data\\starmap_4k.jpg\", baseline=0, prescale=0.7, gamma=3.5)\n",
    "rt.set_background_mode(\"TextureEnvironment\")\n",
    "\n",
    "exposure = 1.2; gamma = 2.2\n",
    "rt.set_float(\"tonemap_exposure\", exposure)\n",
    "rt.set_float(\"tonemap_gamma\", gamma)\n",
    "rt.set_float(\"denoiser_blend\", 0.25)\n",
    "rt.add_postproc(\"Denoiser\")\n",
    "    \n",
    "m_metallic[\"VarFloat\"][\"base_roughness\"] = 0.004\n",
    "rt.setup_material(\"metal\", m_metallic)\n",
    "rt.setup_material(\"plastic\", m_plastic)\n",
    "    \n",
    "rt.setup_camera(\"dof_cam\", eye=[0, 0, 12], target=[0, 0, 0], fov=40, focal_scale=0.86, cam_type=\"DoF\")\n",
    "\n",
    "rt.setup_light(\"l1\", pos=[8, -3, 13], radius=5, color=1.5*np.array([0.99, 0.97, 0.93]))\n",
    "rt.setup_area_light(\"l2\", center=[-17, 0, 0], target=[0, 0, 0], u=10, v=14, color=2*np.array([0.25, 0.28, 0.35]))"
   ]
  },
  {
   "cell_type": "code",
   "execution_count": 4,
   "metadata": {},
   "outputs": [],
   "source": [
    "for c in range(b):\n",
    "    if np.random.uniform() < 0.1:\n",
    "        rt.set_data(\"c\"+str(c), pos=pos[c], r=2.1*r[c], c=col[c], geom=\"BezierChain\", mat=\"plastic\")\n",
    "    else:\n",
    "        rt.set_data(\"c\"+str(c), pos=pos[c], r=0.33*r[c], c=[0.94, 0.93, 0.9], geom=\"BezierChain\", mat=\"metal\")"
   ]
  },
  {
   "cell_type": "code",
   "execution_count": 5,
   "metadata": {},
   "outputs": [],
   "source": [
    "rt.show()"
   ]
  }
 ],
 "metadata": {
  "kernelspec": {
   "display_name": "Python 3 (ipykernel)",
   "language": "python",
   "name": "python3"
  },
  "language_info": {
   "codemirror_mode": {
    "name": "ipython",
    "version": 3
   },
   "file_extension": ".py",
   "mimetype": "text/x-python",
   "name": "python",
   "nbconvert_exporter": "python",
   "pygments_lexer": "ipython3",
   "version": "3.10.6"
  }
 },
 "nbformat": 4,
 "nbformat_minor": 2
}
