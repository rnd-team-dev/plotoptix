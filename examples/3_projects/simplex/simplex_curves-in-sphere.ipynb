{
 "cells": [
  {
   "cell_type": "markdown",
   "metadata": {},
   "source": [
    "OpenSimplex noise trajectories constrained to spheres. More comments to appear..."
   ]
  },
  {
   "cell_type": "code",
   "execution_count": 1,
   "metadata": {},
   "outputs": [],
   "source": [
    "import copy\n",
    "import math\n",
    "import numpy as np\n",
    "\n",
    "from plotoptix import TkOptiX\n",
    "from plotoptix.materials import m_diffuse, m_plastic, m_metallic, m_clear_glass\n",
    "from plotoptix.utils import make_color, simplex"
   ]
  },
  {
   "cell_type": "code",
   "execution_count": 2,
   "metadata": {},
   "outputs": [],
   "source": [
    "b = 60000  # number of curves\n",
    "n = 100    # nodes per curve\n",
    "dt = 0.02  # nodes distance\n",
    "r0 = 0.07  # base thickness\n",
    "\n",
    "R = 4 * np.sqrt(0.1 + 0.9 * np.random.rand(b))\n",
    "for c in range(b):\n",
    "    if np.random.uniform() < 0.045: R[c] = 4.01\n",
    "\n",
    "inp = np.zeros((b, 3, 4), dtype=np.float32)\n",
    "x = np.random.normal(loc=0, scale=1.0, size=b)\n",
    "y = np.random.normal(loc=0, scale=1.0, size=b)\n",
    "z = np.random.normal(loc=0, scale=1.0, size=b)\n",
    "xyz = np.stack((x, y, z)).T\n",
    "for c in range(b):\n",
    "    xyz[c] *= R[c] / np.linalg.norm(xyz[c])\n",
    "\n",
    "ofs = 50 * np.random.rand(3)\n",
    "for c in range(b):\n",
    "    inp[c,:,:3] = xyz[c]\n",
    "    inp[c,:,3] = ofs              # sync the 4'th dim of the noise\n",
    "\n",
    "pos = np.zeros((b, n, 3), dtype=np.float32)\n",
    "col = np.zeros((b, n, 3), dtype=np.float32)\n",
    "r = np.zeros((b, n), dtype=np.float32)\n",
    "\n",
    "rnd = simplex(inp)"
   ]
  },
  {
   "cell_type": "code",
   "execution_count": 3,
   "metadata": {},
   "outputs": [],
   "source": [
    "for t in range(n):\n",
    "    rt = 2.0 * (t+1) / (n+2) - 1\n",
    "    rt = 1 - rt*rt\n",
    "    r[:,t] = r0 * rt * rt\n",
    "    for c in range(b):\n",
    "        mag = np.linalg.norm(rnd[c])\n",
    "        r[c,t] *= 0.2 + 0.8 * mag\n",
    "        \n",
    "        rnd[c] *= dt / mag                # normalize and scale the step size\n",
    "        s = inp[c,0,:3] + rnd[c]          # make unconstrained step...\n",
    "        s *= R[c] / np.linalg.norm(s)     # ...target projected onto sphere...\n",
    "        s -= inp[c,0,:3]                  # ...calculate constrained step...\n",
    "        s *= 0.02 / np.linalg.norm(s)     # ...and normalize it\n",
    "        p = s + inp[c,0,:3]               # make the final step\n",
    "        p *= R[c] / np.linalg.norm(p)     # and the projection to sphere\n",
    "        \n",
    "        inp[c,:,:3] = p\n",
    "        pos[c,t] = p\n",
    "\n",
    "    rnd = simplex(inp, rnd)            # noise at the next pos"
   ]
  },
  {
   "cell_type": "code",
   "execution_count": 4,
   "metadata": {},
   "outputs": [],
   "source": [
    "rt = TkOptiX(start_now=False)\n",
    "rt.set_param(\n",
    "    min_accumulation_step=2,\n",
    "    max_accumulation_frames=500,\n",
    "    rt_timeout=900000,                 # accept low fps\n",
    "    light_shading=\"Soft\"\n",
    ")\n",
    "rt.set_uint(\"path_seg_range\", 6, 12)\n",
    "\n",
    "exposure = 1.2; gamma = 2.2\n",
    "\n",
    "rt.load_texture(\"bg_texture\", r\"data\\starmap_4k.jpg\", prescale=0.8, gamma=4)\n",
    "rt.set_background_mode(\"TextureEnvironment\")\n",
    "\n",
    "rt.set_float(\"tonemap_exposure\", exposure)\n",
    "rt.set_float(\"tonemap_gamma\", gamma)\n",
    "rt.set_float(\"denoiser_blend\", 0.25)\n",
    "rt.add_postproc(\"Denoiser\")"
   ]
  },
  {
   "cell_type": "code",
   "execution_count": 5,
   "metadata": {},
   "outputs": [],
   "source": [
    "m_light = copy.deepcopy(m_diffuse)\n",
    "m_light[\"VarFloat\"] = { \"light_emission\": 3 }\n",
    "rt.setup_material(\"light\", m_light)\n",
    "\n",
    "m_metallic[\"VarFloat\"][\"base_roughness\"] = 0.004\n",
    "rt.setup_material(\"metal\", m_metallic)\n",
    "\n",
    "rt.setup_material(\"plastic\", m_plastic)\n",
    "\n",
    "m_clear_glass[\"VarFloat\"][\"radiation_length\"] = 12\n",
    "m_clear_glass[\"VarFloat\"][\"light_emission\"] = 0.004\n",
    "m_clear_glass[\"VarFloat3\"][\"refraction_index\"] = [ 1.0, 1.0, 1.0 ]\n",
    "m_clear_glass[\"VarFloat3\"][\"subsurface_color\"] = [ 0.1, 0.5, 1.0 ]\n",
    "rt.setup_material(\"glow\", m_clear_glass)"
   ]
  },
  {
   "cell_type": "code",
   "execution_count": 6,
   "metadata": {},
   "outputs": [],
   "source": [
    "rt.set_data(\"blueglow\", pos=[0, 0, 0], r=4.15, mat=\"glow\", c=1000)"
   ]
  },
  {
   "cell_type": "code",
   "execution_count": 7,
   "metadata": {},
   "outputs": [],
   "source": [
    "for c in range(b):\n",
    "    if R[c] > 4:\n",
    "        rt.set_data(\"c\"+str(c), pos=pos[c], r=0.75*r[c], c=[0.94, 0.93, 0.9], geom=\"BezierChain\", mat=\"metal\")\n",
    "    \n",
    "    elif np.random.uniform() < 0.05:\n",
    "        rt.set_data(\"c\"+str(c), pos=pos[c], r=0.2*r[c], c=[0.4, 0, 0], geom=\"BezierChain\", mat=\"light\")\n",
    "\n",
    "    else:\n",
    "        rt.set_data(\"c\"+str(c), pos=pos[c], r=0.25*r[c], c=[0.91, 0.93, 0.98], geom=\"BezierChain\")"
   ]
  },
  {
   "cell_type": "markdown",
   "metadata": {},
   "source": [
    "Opent the GUI window:"
   ]
  },
  {
   "cell_type": "code",
   "execution_count": 8,
   "metadata": {},
   "outputs": [],
   "source": [
    "rt.setup_camera(\"dof_cam\", eye=[0, 0, 12], target=[0, 0, 0],\n",
    "                fov=47, focal_scale=0.683, aperture_radius=0.13,\n",
    "                cam_type=\"DoF\")\n",
    "\n",
    "#rt.setup_light(\"l1\", pos=[8, -3, 13], color=1.5*np.array([0.99, 0.97, 0.93]), radius=5)\n",
    "rt.setup_light(\"l2\", pos=[-17, -7, 5], u=[0, 0, -10], v=[0, 14, 0], color=1*np.array([0.25, 0.28, 0.35]), light_type=\"Parallelogram\")\n",
    "rt.show()"
   ]
  },
  {
   "cell_type": "markdown",
   "metadata": {},
   "source": [
    "Go to a lower resolution if you need it for higher fps:"
   ]
  },
  {
   "cell_type": "code",
   "execution_count": 9,
   "metadata": {},
   "outputs": [],
   "source": [
    "rt.set_rt_size([900, 900])"
   ]
  },
  {
   "cell_type": "code",
   "execution_count": 10,
   "metadata": {},
   "outputs": [],
   "source": [
    "rt.set_rt_size([960, 540])"
   ]
  },
  {
   "cell_type": "markdown",
   "metadata": {},
   "source": [
    "Use more ray segments (finer image) and longer accumulation steps (perf) for the final render:"
   ]
  },
  {
   "cell_type": "code",
   "execution_count": 11,
   "metadata": {},
   "outputs": [],
   "source": [
    "rt.set_uint(\"path_seg_range\", 10, 20)"
   ]
  },
  {
   "cell_type": "code",
   "execution_count": 12,
   "metadata": {},
   "outputs": [],
   "source": [
    "rt.set_param(min_accumulation_step=8, max_accumulation_frames=500, rt_timeout=1000000)"
   ]
  },
  {
   "cell_type": "markdown",
   "metadata": {},
   "source": [
    "And set the final render resolution:"
   ]
  },
  {
   "cell_type": "code",
   "execution_count": 13,
   "metadata": {},
   "outputs": [],
   "source": [
    "rt.set_rt_size([3540, 3540])"
   ]
  },
  {
   "cell_type": "code",
   "execution_count": 14,
   "metadata": {},
   "outputs": [],
   "source": [
    "rt.set_rt_size([5760, 3240])"
   ]
  },
  {
   "cell_type": "markdown",
   "metadata": {},
   "source": [
    "Save the image:"
   ]
  },
  {
   "cell_type": "code",
   "execution_count": 15,
   "metadata": {},
   "outputs": [],
   "source": [
    "rt.save_image(\"simplex_noise_scene.jpg\")"
   ]
  },
  {
   "cell_type": "markdown",
   "metadata": {},
   "source": [
    "And we're done:"
   ]
  },
  {
   "cell_type": "code",
   "execution_count": 16,
   "metadata": {},
   "outputs": [],
   "source": [
    "rt.close()"
   ]
  }
 ],
 "metadata": {
  "kernelspec": {
   "display_name": "Python 3 (ipykernel)",
   "language": "python",
   "name": "python3"
  },
  "language_info": {
   "codemirror_mode": {
    "name": "ipython",
    "version": 3
   },
   "file_extension": ".py",
   "mimetype": "text/x-python",
   "name": "python",
   "nbconvert_exporter": "python",
   "pygments_lexer": "ipython3",
   "version": "3.10.6"
  }
 },
 "nbformat": 4,
 "nbformat_minor": 2
}
