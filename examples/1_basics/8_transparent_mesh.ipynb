{
 "cells": [
  {
   "cell_type": "markdown",
   "metadata": {},
   "source": [
    "## Use texture with alpha transparency on a mesh\n",
    "\n",
    "This example shows how to create a mesh and apply a transparent shading on it."
   ]
  },
  {
   "cell_type": "code",
   "execution_count": 1,
   "metadata": {},
   "outputs": [],
   "source": [
    "import numpy as np\n",
    "from plotoptix import TkOptiX\n",
    "from plotoptix.materials import m_diffuse, m_transparent_diffuse"
   ]
  },
  {
   "cell_type": "markdown",
   "metadata": {},
   "source": [
    "Setup the scene:"
   ]
  },
  {
   "cell_type": "code",
   "execution_count": 2,
   "metadata": {},
   "outputs": [],
   "source": [
    "rt = TkOptiX()\n",
    "rt.set_param(min_accumulation_step=4, max_accumulation_frames=128)\n",
    "rt.setup_camera(\"cam1\", eye=[5, -5, -3], up=[0.7, 0.7, 0.1], focal_scale=0.7, fov=38)\n",
    "rt.setup_light(\"light1\", pos=[10, -9, -8], color=[5, 4.5, 4], radius=4)\n",
    "rt.set_ambient([0.2, 0.3, 0.4])"
   ]
  },
  {
   "cell_type": "markdown",
   "metadata": {},
   "source": [
    "Icosahedron vertices and faces:"
   ]
  },
  {
   "cell_type": "code",
   "execution_count": 3,
   "metadata": {},
   "outputs": [],
   "source": [
    "pt = (1 + np.sqrt(5)) / 2\n",
    "\n",
    "points = np.array([\n",
    "    [-1, pt, 0], [1, pt, 0], [-1, -pt, 0], [1, -pt, 0],\n",
    "    [0, -1, pt], [0, 1, pt], [0, -1, -pt], [0, 1, -pt],\n",
    "    [pt, 0, -1], [pt, 0, 1], [-pt, 0, -1], [-pt, 0, 1]\n",
    "])\n",
    "\n",
    "faces = [\n",
    "    [0, 11, 5], [0, 5, 1], [0, 1, 7], [0, 7, 10], [0, 10, 11],\n",
    "    [1, 5, 9], [5, 11, 4], [11, 10, 2], [10, 7, 6], [7, 1, 8],\n",
    "    [3, 9, 4], [3, 4, 2], [3, 2, 6], [3, 6, 8], [3, 8, 9],\n",
    "    [4, 9, 5], [2, 4, 11], [6, 2, 10], [8, 6, 7], [9, 8, 1]\n",
    "]\n",
    "\n",
    "uv_map = [[0.01, 0.99], [0.99, 0.99], [0.5, 0.01]]\n",
    "uv_idx = 20 * [[0, 1, 2]]"
   ]
  },
  {
   "cell_type": "markdown",
   "metadata": {},
   "source": [
    "Add texture to standard diffuse material, setup texture with alpha transparency for the m_transparent_diffuse material:"
   ]
  },
  {
   "cell_type": "code",
   "execution_count": 4,
   "metadata": {},
   "outputs": [],
   "source": [
    "rt.load_texture(\"tri\", \"tri.png\")\n",
    "\n",
    "m_diffuse[\"ColorTextures\"] = [ \"tri\" ]\n",
    "rt.update_material(\"diffuse\", m_diffuse)\n",
    "\n",
    "m_transparent_diffuse[\"ColorTextures\"] = [ \"tri\" ]\n",
    "rt.setup_material(\"transparent\", m_transparent_diffuse)"
   ]
  },
  {
   "cell_type": "markdown",
   "metadata": {},
   "source": [
    "Create two icosahedrons:"
   ]
  },
  {
   "cell_type": "code",
   "execution_count": 5,
   "metadata": {},
   "outputs": [],
   "source": [
    "rt.set_mesh(\"m\", points + [0, 0, 1.8], faces, uvmap=uv_map, uvidx=uv_idx)\n",
    "rt.set_mesh(\"t\", points - [0, 0, 1.8], faces, uvmap=uv_map, uvidx=uv_idx, mat=\"transparent\")"
   ]
  },
  {
   "cell_type": "markdown",
   "metadata": {},
   "source": [
    "Open GUI."
   ]
  },
  {
   "cell_type": "code",
   "execution_count": 6,
   "metadata": {},
   "outputs": [],
   "source": [
    "rt.start()"
   ]
  },
  {
   "cell_type": "markdown",
   "metadata": {},
   "source": [
    "Close the session:"
   ]
  },
  {
   "cell_type": "code",
   "execution_count": 7,
   "metadata": {},
   "outputs": [],
   "source": [
    "rt.close()"
   ]
  }
 ],
 "metadata": {
  "kernelspec": {
   "display_name": "Python 3 (ipykernel)",
   "language": "python",
   "name": "python3"
  },
  "language_info": {
   "codemirror_mode": {
    "name": "ipython",
    "version": 3
   },
   "file_extension": ".py",
   "mimetype": "text/x-python",
   "name": "python",
   "nbconvert_exporter": "python",
   "pygments_lexer": "ipython3",
   "version": "3.10.6"
  }
 },
 "nbformat": 4,
 "nbformat_minor": 2
}
