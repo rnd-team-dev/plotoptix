{
 "cells": [
  {
   "cell_type": "markdown",
   "metadata": {},
   "source": [
    "## Materials configuration\n",
    "\n",
    "This example shows how to:\n",
    "   - configure various materials with the `make_material` method\n",
    "   - upload textures to the device in the default 32 bit/channel format as well as in 8 bit/channel for lower memory usage\n",
    "\n",
    "![plotoptix ray_tracing_output](https://plotoptix.rnd.team/images/materials_cfg.jpg \"This notebook output\")\n",
    "\n",
    "The variety of materials is configured with a single utility function in this notebook. But you can start with predefined materials and create your variants by modifying parameters, as shown in other examples."
   ]
  },
  {
   "cell_type": "markdown",
   "metadata": {},
   "source": [
    "Make some data for a simple scene first:"
   ]
  },
  {
   "cell_type": "code",
   "execution_count": 1,
   "metadata": {},
   "outputs": [],
   "source": [
    "import numpy as np\n",
    "\n",
    "rx = (-20, 20)\n",
    "rz = (-20, 20)\n",
    "n = 100\n",
    "\n",
    "x = np.linspace(rx[0], rx[1], n)\n",
    "z = np.linspace(rz[0], rz[1], n)\n",
    "\n",
    "X, Z = np.meshgrid(x, z)\n",
    "\n",
    "# positions of blocks\n",
    "data = np.stack((X.flatten(), np.full(n*n, -2), Z.flatten())).T\n",
    "# XZ sizes\n",
    "size_u = 0.96 * (rx[1] - rx[0]) / (n - 1)\n",
    "size_w = 0.96 * (rz[1] - rz[0]) / (n - 1)"
   ]
  },
  {
   "cell_type": "markdown",
   "metadata": {},
   "source": [
    "Setup the raytracer using Tkinter GUI as the output target. Note, it is important to select the background mode which supports scattering in volumes (used in some of presented materials): ``AmbientAndVolume``, ``TextureFixed``, or ``TextureEnvironment``."
   ]
  },
  {
   "cell_type": "code",
   "execution_count": 2,
   "metadata": {},
   "outputs": [],
   "source": [
    "from plotoptix import TkOptiX\n",
    "\n",
    "rt = TkOptiX()\n",
    "rt.set_param(min_accumulation_step=4,        # set more accumulation frames to get rid of the noise\n",
    "             max_accumulation_frames=512,\n",
    "             light_shading=\"Hard\")           # use ligth shading best for caustics\n",
    "\n",
    "rt.set_uint(\"path_seg_range\", 15, 40)        # more path segments to improve simulation in volumes\n",
    "\n",
    "exposure = 1.0; gamma = 2.2\n",
    "rt.set_background_mode(\"TextureEnvironment\") # need one of modes supporting scattering in volumes\n",
    "rt.set_background(\"data/starmap_4k.jpg\", gamma=gamma, rt_format=\"UByte4\") # 8 bit/channel, forced with rt_format value\n",
    "rt.set_background(0)\n",
    "rt.set_ambient(0)\n",
    "\n",
    "rt.set_float(\"tonemap_exposure\", exposure)\n",
    "rt.set_float(\"tonemap_gamma\", gamma)\n",
    "rt.set_float(\"denoiser_blend\", 0.2)\n",
    "rt.add_postproc(\"Denoiser\")    # apply AI denoiser, or\n",
    "#rt.add_postproc(\"Gamma\")      # use gamma correction\n",
    "\n",
    "rt.setup_camera(\"cam1\", cam_type=\"Pinhole\",\n",
    "                eye=[0, 15, 1.55], target=[0, 0, 1.55], up=[1, 0, 0],\n",
    "                fov=45)\n",
    "\n",
    "rt.setup_light(\"light1\", pos=[5.2, 8, 7], color=8, radius=1.5)\n",
    "rt.setup_light(\"light2\", pos=[-6, 8, -5], color=[10, 11, 12], radius=1.3)"
   ]
  },
  {
   "cell_type": "markdown",
   "metadata": {},
   "source": [
    "Only *diffuse* material is available by default. Other materials need to be configured before using. Textures have to be set before materials are created."
   ]
  },
  {
   "cell_type": "code",
   "execution_count": 3,
   "metadata": {},
   "outputs": [],
   "source": [
    "from plotoptix.utils import read_image, make_color_2d\n",
    "\n",
    "wood = read_image(r\"data/wood.jpg\", normalized=True)\n",
    "alpha = np.full(wood.shape[:2] + (4,), 1, dtype=np.float32)\n",
    "alpha[:,:,3] = wood[:,:,1]  # green channel copied to alpha channel\n",
    "\n",
    "wood = wood[:,:,1]  # make a grayscale image from the green channel\n",
    "wood -= np.amin(wood)\n",
    "wood *= 1.0 / np.amax(wood)\n",
    "\n",
    "# 8 bit/channel, forced with the array dtype:\n",
    "rt.set_texture_2d(\"mask\", (255*alpha).astype(np.uint8))\n",
    "rt.set_texture_2d(\"wood\", (255*wood).astype(np.uint8))\n",
    "rt.set_texture_2d(\"wood4\", (255*np.power(wood, 4)).astype(np.uint8))\n",
    "\n",
    "rainbow = read_image(r\"data/rainbow.jpg\", normalized=True)\n",
    "rainbow_exp = np.exp(rainbow) # use exponential space to preserve colors used as attenuation lengths in the glass\n",
    "\n",
    "# 32 bit/channel, floating point, default:\n",
    "rt.set_texture_2d(\"rainbow\", make_color_2d(rainbow, channel_order=\"RGBA\"))\n",
    "rt.set_texture_2d(\"rainbow_exp\", make_color_2d(rainbow_exp, channel_order=\"RGBA\"))"
   ]
  },
  {
   "cell_type": "code",
   "execution_count": 4,
   "metadata": {},
   "outputs": [],
   "source": [
    "from plotoptix.materials import make_material\n",
    "\n",
    "m_glass_1 = make_material(\"Transmissive\", color=0.15, color_tex=\"rainbow_exp\")\n",
    "m_glass_2 = make_material(\"Transmissive\", color=100, radiation_length=0.1, subsurface_color=[0.7, 0.85, 1])\n",
    "m_glass_3 = make_material(\"Transmissive\", color=100, radiation_length=0.8, light_emission=0.01, subsurface_color=[0.9, 1, 1])\n",
    "m_glass_4 = make_material(\"Transmissive\", color=100, refraction_index=[1.35, 1.4, 1.48])\n",
    "\n",
    "m_diffuse_1 = make_material(\"Diffuse\")\n",
    "m_diffuse_2 = make_material(\"Diffuse\", color_tex=\"rainbow\")\n",
    "m_diffuse_3 = make_material(\"TransparentDiffuse\", color_tex=\"mask\")\n",
    "\n",
    "m_specular_1 = make_material(\"Reflective\", specular=0.1)\n",
    "m_specular_2 = make_material(\"Reflective\", specular=0.6)\n",
    "m_specular_3 = make_material(\"Reflective\", color=[0.01, 0.3, 0.8], specular=0.9, roughness=0.05, roughness_tex=\"wood4\")\n",
    "\n",
    "m_metal_1 = make_material(\"Reflective\", metalness=1.0, roughness=0.004, roughness_tex=\"wood4\")\n",
    "m_metal_2 = make_material(\"Reflective\", specular=0.1, metalness=1.0, metalness_tex=\"wood\")\n",
    "\n",
    "rt.setup_material(\"glass_1\", m_glass_1)       # colored with the texture (note the exp color space)\n",
    "rt.setup_material(\"glass_2\", m_glass_2)       # bluish scattering in the volume\n",
    "rt.setup_material(\"glass_3\", m_glass_3)       # light emission in the volume\n",
    "rt.setup_material(\"glass_4\", m_glass_4)       # clear glass with the light refration\n",
    "rt.setup_material(\"diffuse_1\", m_diffuse_1)   # simple diffuse material\n",
    "rt.setup_material(\"diffuse_2\", m_diffuse_2)   # diffuse, textured\n",
    "rt.setup_material(\"diffuse_3\", m_diffuse_3)   # diffuse, transparency in the texture alpha channel\n",
    "rt.setup_material(\"specular_1\", m_specular_1) # slightly reflective, plastic-like surface\n",
    "rt.setup_material(\"specular_2\", m_specular_2) # a more shiny plastic-like surface\n",
    "rt.setup_material(\"specular_3\", m_specular_3) # shiny syrface with a roughness texture\n",
    "rt.setup_material(\"metal_1\", m_metal_1)       # metallic with a roughness texture\n",
    "rt.setup_material(\"metal_2\", m_metal_2)       # metalness modulated with a texture"
   ]
  },
  {
   "cell_type": "markdown",
   "metadata": {},
   "source": [
    "Add objects to the scene."
   ]
  },
  {
   "cell_type": "code",
   "execution_count": 5,
   "metadata": {},
   "outputs": [],
   "source": [
    "rt.set_data(\"blocks\", pos=data,\n",
    "            c=0.8 + 0.15*np.random.randint(3, size=data.shape[0]),\n",
    "            u=[size_u, 0, 0], v=[0, -1, 0], w=[0, 0, size_w],\n",
    "            geom=\"Parallelepipeds\")\n",
    "\n",
    "rt.set_data(\"c_clear\", pos=[-3.5, 0, -5], u=[0.25, 0, 0], v=[0, 4, 0], w=[0, 0, 4], c=0.8, mat=\"glass_1\", geom=\"Parallelepipeds\")\n",
    "rt.rotate_geometry(\"c_clear\", [0, 0, -np.pi/3])\n",
    "rt.set_data(\"c_diffuse\", pos=[-0.5, 0, -5], u=[0.25, 0, 0], v=[0, 4, 0], w=[0, 0, 4], c=0.8, mat=\"glass_2\", geom=\"Parallelepipeds\")\n",
    "rt.rotate_geometry(\"c_diffuse\", [0, 0, -np.pi/3])\n",
    "rt.set_data(\"c_light\", pos=[2.5, 0, -5], u=[0.25, 0, 0], v=[0, 4, 0], w=[0, 0, 4], c=0.8, mat=\"glass_3\", geom=\"Parallelepipeds\")\n",
    "rt.rotate_geometry(\"c_light\", [0, 0, -np.pi/3])\n",
    "\n",
    "rt.set_data(\"s_diffuse_3\", pos=[-3.1, 1.5, 1], r=1.5, c=0.9, mat=\"diffuse_3\", geom=\"ParticleSetTextured\")\n",
    "rt.set_data(\"s_diffuse_2\", pos=[0, 1.5, 1], r=1.5, c=0.8, mat=\"diffuse_2\", geom=\"ParticleSetTextured\")\n",
    "rt.set_data(\"s_diffuse_1\", pos=[3.1, 1.5, 1], r=1.5, c=0.8, mat=\"diffuse_1\")\n",
    "\n",
    "rt.set_data(\"s_specular_3\", pos=[-3.1, 1.5, 4.1], r=1.5, c=[0.8, 0.9, 0.99], mat=\"specular_3\", geom=\"ParticleSetTextured\")\n",
    "rt.set_data(\"s_specular_2\", pos=[0, 1.5, 4.1], r=1.5, c=[0.99, 0.9, 0.8], mat=\"specular_2\")\n",
    "rt.set_data(\"s_specular_1\", pos=[3.1, 1.5, 4.1], r=1.5, c=[0.7, 0.5, 0.1], mat=\"specular_1\")\n",
    "\n",
    "rt.set_data(\"s_metal_3\", pos=[-3.1, 1.5, 7.2], r=1.5, c=0.9, mat=\"metal_2\", geom=\"ParticleSetTextured\")\n",
    "rt.set_data(\"s_metal_2\", pos=[0, 1.5, 7.2], r=1.5, c=0.9, mat=\"metal_1\", geom=\"ParticleSetTextured\")\n",
    "rt.set_data(\"s_glass_4\", pos=[3.1, 1.5, 7.2], r=1.5, c=0.9, mat=\"glass_4\")"
   ]
  },
  {
   "cell_type": "markdown",
   "metadata": {},
   "source": [
    "Open the GUI."
   ]
  },
  {
   "cell_type": "code",
   "execution_count": 6,
   "metadata": {
    "scrolled": true
   },
   "outputs": [],
   "source": [
    "rt.start()"
   ]
  },
  {
   "cell_type": "markdown",
   "metadata": {},
   "source": [
    "Close GUI window, release resources."
   ]
  },
  {
   "cell_type": "code",
   "execution_count": 7,
   "metadata": {},
   "outputs": [],
   "source": [
    "rt.close()"
   ]
  }
 ],
 "metadata": {
  "kernelspec": {
   "display_name": "Python 3 (ipykernel)",
   "language": "python",
   "name": "python3"
  },
  "language_info": {
   "codemirror_mode": {
    "name": "ipython",
    "version": 3
   },
   "file_extension": ".py",
   "mimetype": "text/x-python",
   "name": "python",
   "nbconvert_exporter": "python",
   "pygments_lexer": "ipython3",
   "version": "3.10.6"
  }
 },
 "nbformat": 4,
 "nbformat_minor": 2
}
