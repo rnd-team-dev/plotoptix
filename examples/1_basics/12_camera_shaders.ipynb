{
 "cells": [
  {
   "cell_type": "markdown",
   "metadata": {},
   "source": [
    "## Camera shaders\n",
    "\n",
    "Various camera projections are illustrated, including user defined ray distribution."
   ]
  },
  {
   "cell_type": "code",
   "execution_count": 1,
   "metadata": {},
   "outputs": [],
   "source": [
    "%matplotlib widget\n",
    "import matplotlib.pyplot as plt\n",
    "\n",
    "import numpy as np\n",
    "from plotoptix import NpOptiX"
   ]
  },
  {
   "cell_type": "markdown",
   "metadata": {},
   "source": [
    "Setup the raytracer:"
   ]
  },
  {
   "cell_type": "code",
   "execution_count": 2,
   "metadata": {},
   "outputs": [],
   "source": [
    "width = 800\n",
    "height = 500\n",
    "\n",
    "def update_image(rt: NpOptiX) -> None:\n",
    "    img.set_data(rt._img_rgba) # update figure directly accessing buffer where the device is storing the output data\n",
    "    plt.draw()\n",
    "\n",
    "rt = NpOptiX(on_launch_finished=update_image, width=width, height=height, start_now=False)\n",
    "\n",
    "rt.set_param(min_accumulation_step=4,\n",
    "             max_accumulation_frames=512)"
   ]
  },
  {
   "cell_type": "markdown",
   "metadata": {},
   "source": [
    "Add some data. Not so fancy but should give a visual confirmation of changes to perspective lines and an up-down / left-right orientation."
   ]
  },
  {
   "cell_type": "code",
   "execution_count": 3,
   "metadata": {},
   "outputs": [],
   "source": [
    "rx = 10\n",
    "rz = 8\n",
    "n = 30\n",
    "\n",
    "x = np.linspace(0, rx, n)\n",
    "z = np.linspace(0, rz, n)\n",
    "\n",
    "X, Z = np.meshgrid(x, z)\n",
    "\n",
    "# positions of points\n",
    "xyz = np.stack((X.flatten(), np.zeros(n*n), Z.flatten())).T\n",
    "\n",
    "# sizes: increase with X (left to right in the image below)\n",
    "r = 0.1 + (1 / n) * xyz[:,0]\n",
    "# colors: darker with Y (top to down in the image below)\n",
    "c = 0.95 - (0.9 / rz) * xyz[:,2]\n",
    "\n",
    "rt.set_data(\"points\", xyz, r=r, c=c, geom=\"Parallelepipeds\")\n",
    "\n",
    "rt.set_data(\"plane\", [-10, -1, -10], u=[30, 0, 0], v=[0, 0, 30], c=0.9, geom=\"Parallelograms\") # a wall behind cubes\n",
    "\n",
    "rt.setup_area_light(\"light1\", center=[15, 15, 4], target=[5, 0, 4], u=7, v=7, color=[9, 8, 7])\n",
    "\n",
    "rt.set_ambient([0.1, 0.2, 0.4])\n",
    "rt.set_background(0)"
   ]
  },
  {
   "cell_type": "markdown",
   "metadata": {},
   "source": [
    "Custom projection is defined with ray angles in a texture. If the texture size coincides with the render view size, each ray is exactly defined by corresponding pixel in the texture, otherwise ray angles are interpolated. Ray angles are:\n",
    "- u, horizontal deflection with respect to the camera axis (negative to the left, positive to the right)\n",
    "- v, vertical deflection with respect to the camera axis (negative down, positive up).\n",
    "\n",
    "Angles are in radians, scaled to map the range `(-pi;  pi)` to `(-1; 1)`."
   ]
  },
  {
   "cell_type": "code",
   "execution_count": 4,
   "metadata": {},
   "outputs": [],
   "source": [
    "fov = 50 # field of view (vertical), in degrees\n",
    "\n",
    "# equirectangular projection\n",
    "a_ratio = width / height\n",
    "u = np.linspace(-0.5 * a_ratio * fov / 180, 0.5 * a_ratio * fov / 180, width)\n",
    "v = np.linspace(0.5 * fov / 180, -0.5 * fov / 180, height)\n",
    "\n",
    "V, U = np.meshgrid(v, u)\n",
    "\n",
    "fi_tex = np.stack((U, V)).T\n",
    "\n",
    "rt.set_texture_2d(\"fi_tex\", fi_tex)"
   ]
  },
  {
   "cell_type": "markdown",
   "metadata": {},
   "source": [
    "Setup  cameras (all modes except 360deg panorama, which would be `cam_type=\"Panoramic\"`):"
   ]
  },
  {
   "cell_type": "code",
   "execution_count": 5,
   "metadata": {},
   "outputs": [],
   "source": [
    "eye = [5, 10, 4]\n",
    "tgt = [5, 0, 4]\n",
    "up  = [0, 0, -1]\n",
    "\n",
    "rt.setup_camera(\"cam7\", cam_type=\"CustomProj\", eye=eye, target=tgt, up=up, textures=[\"fi_tex\"])\n",
    "rt.setup_camera(\"cam6\", cam_type=\"FisheyeChroma\", eye=eye, target=tgt, up=up, fov=fov)\n",
    "rt.setup_camera(\"cam5\", cam_type=\"Fisheye\", eye=eye, target=tgt, up=up, fov=fov)\n",
    "rt.setup_camera(\"cam4\", cam_type=\"Ortho\", eye=eye, target=tgt, up=up, fov=fov)\n",
    "rt.setup_camera(\"cam3\", cam_type=\"ThinLensChroma\", eye=eye, target=tgt, up=up, fov=fov, chroma_l=0, chroma_t=0.05)\n",
    "rt.setup_camera(\"cam2\", cam_type=\"ThinLensChroma\", eye=eye, target=tgt, up=up, fov=fov) # default aberration values\n",
    "rt.setup_camera(\"cam1\", cam_type=\"ThinLens\", eye=eye, target=tgt, up=up, fov=fov)"
   ]
  },
  {
   "cell_type": "markdown",
   "metadata": {},
   "source": [
    "Show the output image here:"
   ]
  },
  {
   "cell_type": "code",
   "execution_count": 6,
   "metadata": {},
   "outputs": [
    {
     "data": {
      "application/vnd.jupyter.widget-view+json": {
       "model_id": "e4428e1d442d4d869c3e71109352f19d",
       "version_major": 2,
       "version_minor": 0
      },
      "image/png": "[encoded data removed]",
      "text/html": [
       "\n",
       "            <div style=\"display: inline-block;\">\n",
       "                <div class=\"jupyter-widgets widget-label\" style=\"text-align: center;\">\n",
       "                    Figure\n",
       "                </div>\n",
       "                <img src='data:image/png;base64,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' width=640.0/>\n",
       "            </div>\n",
       "        "
      ],
      "text/plain": [
       "Canvas(toolbar=Toolbar(toolitems=[('Home', 'Reset original view', 'home', 'home'), ('Back', 'Back to previous …"
      ]
     },
     "metadata": {},
     "output_type": "display_data"
    }
   ],
   "source": [
    "plt.figure(1)\n",
    "img = plt.imshow(np.zeros((height,width,4)))\n",
    "plt.tight_layout()"
   ]
  },
  {
   "cell_type": "markdown",
   "metadata": {},
   "source": [
    "Start the ray tracing:"
   ]
  },
  {
   "cell_type": "code",
   "execution_count": 7,
   "metadata": {
    "scrolled": true
   },
   "outputs": [],
   "source": [
    "rt.start()"
   ]
  },
  {
   "cell_type": "markdown",
   "metadata": {},
   "source": [
    "Change the active camera:"
   ]
  },
  {
   "cell_type": "code",
   "execution_count": 8,
   "metadata": {},
   "outputs": [],
   "source": [
    "rt.set_current_camera(\"cam7\") # try all cameras cam1...cam7"
   ]
  },
  {
   "cell_type": "markdown",
   "metadata": {},
   "source": [
    "Modify the custom projection (run this with `cam7` active):"
   ]
  },
  {
   "cell_type": "code",
   "execution_count": 9,
   "metadata": {},
   "outputs": [],
   "source": [
    "fi_tex2 = 6*np.multiply(np.sign(fi_tex), np.multiply(fi_tex, fi_tex))\n",
    "\n",
    "rt.set_texture_2d(\"fi_tex\", fi_tex2, refresh=True) # update texture content, data is copied directly to the device memory here"
   ]
  },
  {
   "cell_type": "markdown",
   "metadata": {},
   "source": [
    "Close the ray-tracer."
   ]
  },
  {
   "cell_type": "code",
   "execution_count": 10,
   "metadata": {},
   "outputs": [],
   "source": [
    "rt.close()"
   ]
  }
 ],
 "metadata": {
  "kernelspec": {
   "display_name": "Python 3 (ipykernel)",
   "language": "python",
   "name": "python3"
  },
  "language_info": {
   "codemirror_mode": {
    "name": "ipython",
    "version": 3
   },
   "file_extension": ".py",
   "mimetype": "text/x-python",
   "name": "python",
   "nbconvert_exporter": "python",
   "pygments_lexer": "ipython3",
   "version": "3.10.6"
  }
 },
 "nbformat": 4,
 "nbformat_minor": 2
}
