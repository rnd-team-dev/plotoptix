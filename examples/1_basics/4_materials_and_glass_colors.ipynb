{
 "cells": [
  {
   "cell_type": "markdown",
   "metadata": {},
   "source": [
    "## Materials and glass colors\n",
    "\n",
    "This example shows how to:\n",
    "   - use / modify predefined materials\n",
    "   - manage colors of the transparent, glass-like material\n",
    "   - setup range of path segments per traced ray appropriate to transparent materials in the scene\n",
    "   - setup light shading and tone mapping for best caustics or fast convergence\n",
    "   \n",
    "Tkinter GUI window is launched from the notebook in this example. This allows re-running code cells and see results without scrolling back to the figure."
   ]
  },
  {
   "cell_type": "code",
   "execution_count": 1,
   "metadata": {},
   "outputs": [],
   "source": [
    "import numpy as np\n",
    "from plotoptix import TkOptiX\n",
    "from plotoptix.materials import m_clear_glass, m_mirror, m_plastic  # predefined materials\n",
    "from plotoptix.utils import map_to_colors  # map variable to matplotlib color map"
   ]
  },
  {
   "cell_type": "markdown",
   "metadata": {},
   "source": [
    "Make some data first:"
   ]
  },
  {
   "cell_type": "code",
   "execution_count": 2,
   "metadata": {},
   "outputs": [],
   "source": [
    "n = 6\n",
    "a = 8\n",
    "s = a / n\n",
    "xyz = np.mgrid[0:a:s, 0:a:s, 0:a:s].reshape(3,-1).T\n",
    "rnd = np.random.uniform(0, 1, xyz.shape[0])\n",
    "\n",
    "# most cubes with the standard material:\n",
    "xyz_c_diffuse = xyz[((xyz[:,0] == 0) | (xyz[:,1] == 0) | (xyz[:,2] == 0)) & (rnd < 0.7)]\n",
    "# the rest made of mirror walls:\n",
    "xyz_c_mirror = xyz[((xyz[:,0] == 0) | (xyz[:,1] == 0) | (xyz[:,2] == 0)) & (rnd >= 0.7)]\n",
    "\n",
    "# most particles made of glass:\n",
    "xyz_p_glass = xyz[(xyz[:,0] > 0) & (xyz[:,1] > 0) & (xyz[:,2] > 0) & (rnd < 0.4)]\n",
    "# some plastic-like particles:\n",
    "xyz_p_plastic = xyz[(xyz[:,0] > 0) & (xyz[:,1] > 0) & (xyz[:,2] > 0) & (rnd > 0.9)]"
   ]
  },
  {
   "cell_type": "markdown",
   "metadata": {},
   "source": [
    "Setup the raytracer using Tkinter GUI as the output target:"
   ]
  },
  {
   "cell_type": "code",
   "execution_count": 3,
   "metadata": {},
   "outputs": [],
   "source": [
    "optix = TkOptiX(start_now=False) # no need to open the window yet\n",
    "optix.set_param(min_accumulation_step=4,     # set more accumulation frames\n",
    "                max_accumulation_frames=500, # to get rid of the noise\n",
    "                light_shading=\"Hard\")        # use \"Hard\" light shading for the best caustics and \"Soft\" for fast convergence"
   ]
  },
  {
   "cell_type": "markdown",
   "metadata": {},
   "source": [
    "**Note 1:** *transparent* and *reflective* materials may need increased number of traced ray segments, depending on the scene complexity. Default minimum is 2 segments per ray and maximum is 6 (russian roulette is applied between min and max to stop the ray). Default value is fine for opaque materials, but it may cut the ray too early when it is crossing several transparent objects.\n",
    "\n",
    "Let's make the segments range longer:"
   ]
  },
  {
   "cell_type": "code",
   "execution_count": 4,
   "metadata": {},
   "outputs": [],
   "source": [
    "optix.set_uint(\"path_seg_range\", 15, 30)"
   ]
  },
  {
   "cell_type": "markdown",
   "metadata": {},
   "source": [
    "Only *diffuse* material is available by default. Other materials need to be configured before using:"
   ]
  },
  {
   "cell_type": "code",
   "execution_count": 5,
   "metadata": {},
   "outputs": [],
   "source": [
    "optix.setup_material(\"glass\", m_clear_glass)\n",
    "optix.setup_material(\"plastic\", m_plastic)\n",
    "optix.setup_material(\"mirror\", m_mirror)"
   ]
  },
  {
   "cell_type": "markdown",
   "metadata": {},
   "source": [
    "**Note 2:** range of color RGB components of opaque materials is <0; 1>, and it tells how much light for each component is scattered of the surface. The meaning of color in *transparent* materials is attenuation lenght of each component, and the range is <0; inf). So, if a glass object is to be transparent, its RGB values should be much higher than its dimensions.\n",
    "\n",
    "That is why the color of particles in the cell below is set to 10 (meaning clear, neutral color with rgb=[10, 10, 10])."
   ]
  },
  {
   "cell_type": "code",
   "execution_count": 6,
   "metadata": {},
   "outputs": [],
   "source": [
    "optix.set_data(\"particles_g\", pos=xyz_p_glass + np.array([0.5*s, 0.5*s, 0.5*s]), r=0.4*s,\n",
    "               geom=\"ParticleSet\",     # set the geometry of data points to particles\n",
    "               mat=\"glass\",            # use the glass material\n",
    "               c=10)                   # and set the color to transparent, neutral\n",
    "optix.set_data(\"particles_p\", pos=xyz_p_plastic + np.array([0.5*s, 0.5*s, 0.5*s]), r=0.4*s,\n",
    "               geom=\"ParticleSet\",     # set geometry of to particles\n",
    "               mat=\"plastic\",          # slightly reflective, plastic look\n",
    "               c=0.95)                 # white color\n",
    "\n",
    "optix.set_data(\"cubes_d\", pos=xyz_c_diffuse, u=[0.9*s, 0, 0], v=[0, 0.9*s, 0], w=[0, 0, 0.9*s],\n",
    "               geom=\"Parallelepipeds\", # cubes, actually default geometry\n",
    "               mat=\"diffuse\",          # opaque, mat, default\n",
    "               c=0.95)                 # white color\n",
    "\n",
    "optix.set_data(\"cubes_m\", pos=xyz_c_mirror, u=[0.9*s, 0, 0], v=[0, 0.9*s, 0], w=[0, 0, 0.9*s],\n",
    "               geom=\"Parallelepipeds\", # cubes, same default geometry\n",
    "               mat=\"mirror\")           # 100% reflective mirror, no color"
   ]
  },
  {
   "cell_type": "markdown",
   "metadata": {},
   "source": [
    "Setup a good point of view, and set background/ambient colors to zero:"
   ]
  },
  {
   "cell_type": "code",
   "execution_count": 7,
   "metadata": {},
   "outputs": [],
   "source": [
    "optix.setup_camera(\"cam1\", eye=[20, 10, 10], target=[0.5*a, 0.4*a, 0.5*a], fov=35)\n",
    "optix.set_background(0)\n",
    "optix.set_ambient(0)"
   ]
  },
  {
   "cell_type": "markdown",
   "metadata": {},
   "source": [
    "Adjust exposure and gamma correction to improve brightness and contrast in the scene, use AI denoiser to improve image quality before the accumulation converges. Note: use *Gamma* postprocessing OR *Denoiser* - denoiser includes gamma correction."
   ]
  },
  {
   "cell_type": "code",
   "execution_count": 8,
   "metadata": {},
   "outputs": [],
   "source": [
    "optix.set_float(\"tonemap_exposure\", 0.5)\n",
    "optix.set_float(\"tonemap_gamma\", 2.2)\n",
    "\n",
    "optix.add_postproc(\"Gamma\")      # apply gamma correction postprocessing stage, or\n",
    "#optix.add_postproc(\"Denoiser\")  # use AI denoiser (exposure and gamma are applied as well)"
   ]
  },
  {
   "cell_type": "code",
   "execution_count": 9,
   "metadata": {},
   "outputs": [],
   "source": [
    "optix.setup_light(\"light1\", pos=[5, 20, 5], color=10*np.array([1.0, 0.97, 0.7]), radius=4)\n",
    "optix.setup_light(\"light2\", pos=[7, 7, 20], color=15*np.array([0.7, 0.85, 1.0]), radius=3)\n",
    "optix.setup_light(\"light3\", pos=[15, 2, 2], color=15, radius=1)"
   ]
  },
  {
   "cell_type": "markdown",
   "metadata": {},
   "source": [
    "OK, finally open the GUI."
   ]
  },
  {
   "cell_type": "code",
   "execution_count": 10,
   "metadata": {
    "scrolled": true
   },
   "outputs": [],
   "source": [
    "optix.start()"
   ]
  },
  {
   "cell_type": "markdown",
   "metadata": {},
   "source": [
    "Wait for the raytracing completed, it is worth looking at the image without the noise.\n",
    "\n",
    "---\n",
    "\n",
    "Cells below, before closing the GUI, allow to update several scene parameters. You can run these cells multiple times.\n",
    "\n",
    "\n",
    "Display glass parameters, note constant refraction index for R, G, and B components:"
   ]
  },
  {
   "cell_type": "code",
   "execution_count": 11,
   "metadata": {},
   "outputs": [
    {
     "name": "stdout",
     "output_type": "stream",
     "text": [
      "{'RadianceProgram': 'materials7.ptx::__closesthit__radiance__glass', 'OcclusionProgram': 'materials7.ptx::__closesthit__occlusion', 'VarUInt': {'flags': 12}, 'VarFloat': {'radiation_length': 0.0, 'vol_scattering': 1.0, 'light_emission': 0.0}, 'VarFloat3': {'refraction_index': [1.4, 1.4, 1.4], 'surface_albedo': [1.0, 1.0, 1.0]}}\n"
     ]
    }
   ],
   "source": [
    "print(m_clear_glass)"
   ]
  },
  {
   "cell_type": "markdown",
   "metadata": {},
   "source": [
    "Change refraction index, causing light dispersion. Wait for a few frames until green bias disappears:"
   ]
  },
  {
   "cell_type": "code",
   "execution_count": 12,
   "metadata": {},
   "outputs": [],
   "source": [
    "m_clear_glass[\"VarFloat3\"][\"refraction_index\"] = [1.4, 1.44, 1.5]\n",
    "optix.update_material(\"glass\", m_clear_glass, refresh=True)"
   ]
  },
  {
   "cell_type": "markdown",
   "metadata": {},
   "source": [
    "See, how neutral colors can affect the transparency:"
   ]
  },
  {
   "cell_type": "code",
   "execution_count": 13,
   "metadata": {},
   "outputs": [],
   "source": [
    "optix.update_data(\"particles_g\", c = 0.5 * xyz_p_glass[:,1])"
   ]
  },
  {
   "cell_type": "markdown",
   "metadata": {},
   "source": [
    "Use matplotlib colors, but scaled x10 to the range resulting with transparent glass:"
   ]
  },
  {
   "cell_type": "code",
   "execution_count": 14,
   "metadata": {},
   "outputs": [],
   "source": [
    "optix.update_data(\"particles_g\", c = 10 * map_to_colors(xyz_p_glass[:,1], \"jet\"))"
   ]
  },
  {
   "cell_type": "markdown",
   "metadata": {},
   "source": [
    "Change lighting:"
   ]
  },
  {
   "cell_type": "code",
   "execution_count": 15,
   "metadata": {},
   "outputs": [],
   "source": [
    "optix.update_light(\"light1\", color=np.array([0.9, 0.7, 0]), radius=7)\n",
    "optix.update_light(\"light2\", pos=[15, 15, 15], color=10*np.array([0.2, 0.5, 1.0]), radius=3)"
   ]
  },
  {
   "cell_type": "markdown",
   "metadata": {},
   "source": [
    "Min/max number of path segments per ray:"
   ]
  },
  {
   "cell_type": "code",
   "execution_count": 16,
   "metadata": {},
   "outputs": [],
   "source": [
    "optix.set_uint(\"path_seg_range\", 2, 4, refresh=True) # try finding min values for this scene"
   ]
  },
  {
   "cell_type": "markdown",
   "metadata": {},
   "source": [
    "---\n",
    "Close the GUI (or use \"x\" in the window)."
   ]
  },
  {
   "cell_type": "code",
   "execution_count": 17,
   "metadata": {},
   "outputs": [],
   "source": [
    "optix.close()"
   ]
  }
 ],
 "metadata": {
  "kernelspec": {
   "display_name": "Python 3 (ipykernel)",
   "language": "python",
   "name": "python3"
  },
  "language_info": {
   "codemirror_mode": {
    "name": "ipython",
    "version": 3
   },
   "file_extension": ".py",
   "mimetype": "text/x-python",
   "name": "python",
   "nbconvert_exporter": "python",
   "pygments_lexer": "ipython3",
   "version": "3.10.6"
  }
 },
 "nbformat": 4,
 "nbformat_minor": 2
}
