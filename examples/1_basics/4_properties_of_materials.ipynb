{
 "cells": [
  {
   "cell_type": "markdown",
   "metadata": {},
   "source": [
    "## Properties of materials\n",
    "\n",
    "This example shows how to:\n",
    "   - use / modify predefined materials\n",
    "   - setup refraction index and light dispersion in glass-like material\n",
    "   - add textures materials\n",
    "   \n",
    "Tkinter GUI window is launched from the notebook in this example. This allows re-running code cells and see results without scrolling back to the figure.\n",
    "\n",
    "![notebook output image](https://plotoptix.rnd.team/images/refractions_dispersion_textures.jpg \"This notebook output\")"
   ]
  },
  {
   "cell_type": "code",
   "execution_count": 1,
   "metadata": {},
   "outputs": [],
   "source": [
    "import numpy as np\n",
    "from plotoptix import TkOptiX\n",
    "from plotoptix.materials import m_clear_glass, m_diffuse # predefined materials\n",
    "from plotoptix.utils import make_color_2d\n",
    "from plotoptix.enums import RtFormat # texture buffer formats"
   ]
  },
  {
   "cell_type": "markdown",
   "metadata": {},
   "source": [
    "Make some data first:"
   ]
  },
  {
   "cell_type": "code",
   "execution_count": 2,
   "metadata": {},
   "outputs": [],
   "source": [
    "rx = (-20, 20)\n",
    "rz = (-20, 20)\n",
    "n = 160\n",
    "\n",
    "x = np.linspace(rx[0], rx[1], n)\n",
    "z = np.linspace(rz[0], rz[1], n)\n",
    "\n",
    "X, Z = np.meshgrid(x, z)\n",
    "\n",
    "# positions of blocks\n",
    "data = np.stack((X.flatten(), np.zeros(n*n), Z.flatten())).T\n",
    "# heights of blocks\n",
    "v = np.zeros(data.shape); v[:,1] = 0.1 + 0.05 * np.random.rand(n*n)\n",
    "# XZ sizes\n",
    "size_u = 0.98 * (rx[1] - rx[0]) / (n - 1)\n",
    "size_w = 0.98 * (rz[1] - rz[0]) / (n - 1)\n",
    "\n",
    "# sphere center and radius:\n",
    "sc = [0.8, 1, 0.3]\n",
    "sr = 0.85\n",
    "\n",
    "m = 300\n",
    "# radii of particles:\n",
    "r = 0.03 * np.random.rand(m) + 0.01\n",
    "# positions of particles:\n",
    "p = sc + 2*sr * (np.random.rand(m,3) - 0.5)"
   ]
  },
  {
   "cell_type": "markdown",
   "metadata": {},
   "source": [
    "Setup the raytracer using Tkinter GUI as the output target:"
   ]
  },
  {
   "cell_type": "code",
   "execution_count": 3,
   "metadata": {},
   "outputs": [],
   "source": [
    "optix = TkOptiX()\n",
    "optix.set_param(min_accumulation_step=4,     # set more accumulation frames to get rid of the noise\n",
    "                max_accumulation_frames=512,\n",
    "                light_shading=\"Hard\")        # use \"Hard\" shading for best caustics\n",
    "optix.set_uint(\"path_seg_range\", 12, 32)     # more path segments to allow multiple refractions"
   ]
  },
  {
   "cell_type": "markdown",
   "metadata": {},
   "source": [
    "Only *diffuse* material is available by default. Other materials need to be configured before using. Let's make some more material definitions starting from predefined values:"
   ]
  },
  {
   "cell_type": "code",
   "execution_count": 4,
   "metadata": {},
   "outputs": [],
   "source": [
    "import copy\n",
    "\n",
    "m_textured = copy.deepcopy(m_diffuse)\n",
    "m_air = copy.deepcopy(m_clear_glass)\n",
    "\n",
    "optix.setup_material(\"tex\", m_textured)\n",
    "optix.setup_material(\"glass\", m_clear_glass)\n",
    "optix.setup_material(\"air\", m_air)"
   ]
  },
  {
   "cell_type": "markdown",
   "metadata": {},
   "source": [
    "Add objects to the scene."
   ]
  },
  {
   "cell_type": "code",
   "execution_count": 5,
   "metadata": {},
   "outputs": [],
   "source": [
    "optix.set_data(\"blocks\", pos=data,\n",
    "               u=[size_u, 0, 0], v=v, w=[0, 0, size_w],\n",
    "               c = np.random.rand(n*n),\n",
    "               geom=\"Parallelepipeds\")\n",
    "\n",
    "optix.set_data(\"bigblock\", geom=\"Parallelepipeds\", mat=\"tex\",\n",
    "               pos=[-0.8, 0.15, -0.8], u=[0.7,0,0], v=[0,0.7,0], w=[0,0,0.7], c=0.94)\n",
    "optix.rotate_primitive(\"bigblock\", 0, rot=(0, np.pi/8, 0))\n",
    "\n",
    "optix.set_data(\"sphere\", pos=sc, r=sr, c=10, mat=\"glass\")\n",
    "\n",
    "optix.set_data(\"particles\", pos=p, r=r, c=10, mat=\"air\")"
   ]
  },
  {
   "cell_type": "markdown",
   "metadata": {},
   "source": [
    "Setup a good point of view, set background and lights. Use ligth shading best for caustics."
   ]
  },
  {
   "cell_type": "code",
   "execution_count": 6,
   "metadata": {},
   "outputs": [],
   "source": [
    "optix.setup_camera(\"cam1\", cam_type=\"DoF\",\n",
    "                   eye=[0.45, 1.27, -3], target=[0.48, 0.6, 0.44], up=[-0.003, 0.94, -0.33],\n",
    "                   aperture_radius=0.025, fov=55, focal_scale=0.61)\n",
    "\n",
    "optix.setup_light(\"light1\", pos=[4, 5.1, 3], color=[12, 11, 10], radius=1.9)\n",
    "optix.setup_light(\"light2\", pos=[-1.5, 3, -2], color=[8, 9, 10], radius=0.2)\n",
    "optix.set_background(0)\n",
    "optix.set_ambient(0)\n",
    "\n",
    "exposure = 0.4; gamma = 2.2 \n",
    "optix.set_float(\"tonemap_exposure\", exposure)\n",
    "optix.set_float(\"tonemap_gamma\", gamma)\n",
    "#optix.add_postproc(\"Gamma\")    # apply gamma correction postprocessing stage, or\n",
    "optix.add_postproc(\"Denoiser\")  # use AI denoiser (exposure and gamma are applied as well)"
   ]
  },
  {
   "cell_type": "markdown",
   "metadata": {},
   "source": [
    "Open the GUI."
   ]
  },
  {
   "cell_type": "code",
   "execution_count": 7,
   "metadata": {
    "scrolled": true
   },
   "outputs": [],
   "source": [
    "optix.start()"
   ]
  },
  {
   "cell_type": "markdown",
   "metadata": {},
   "source": [
    "Display *glass* parameters, note constant refraction index for all RGB components:"
   ]
  },
  {
   "cell_type": "code",
   "execution_count": 8,
   "metadata": {},
   "outputs": [
    {
     "name": "stdout",
     "output_type": "stream",
     "text": [
      "{'RadianceProgram': 'materials7.ptx::__closesthit__radiance__glass', 'OcclusionProgram': 'materials7.ptx::__closesthit__occlusion', 'VarUInt': {'flags': 12}, 'VarFloat': {'radiation_length': 0.0, 'light_emission': 0.0}, 'VarFloat3': {'refraction_index': [1.4, 1.4, 1.4], 'surface_albedo': [1.0, 1.0, 1.0], 'subsurface_color': [1.0, 1.0, 1.0]}}\n"
     ]
    }
   ],
   "source": [
    "print(m_clear_glass)"
   ]
  },
  {
   "cell_type": "markdown",
   "metadata": {},
   "source": [
    "Change refraction index, causing light dispersion. Wait for a few frames until green bias disappears:"
   ]
  },
  {
   "cell_type": "code",
   "execution_count": 9,
   "metadata": {},
   "outputs": [],
   "source": [
    "m_clear_glass[\"VarFloat3\"][\"refraction_index\"] = [1.38, 1.4, 1.43]\n",
    "optix.update_material(\"glass\", m_clear_glass)\n",
    "\n",
    "m_air[\"VarFloat3\"][\"refraction_index\"] = [1.38, 1.4, 1.43] # same as in glass, so particles nested in the sphere are not visible\n",
    "optix.update_material(\"air\", m_air, refresh=True)"
   ]
  },
  {
   "cell_type": "markdown",
   "metadata": {},
   "source": [
    "Change refraction index so particles in the void dissapear and those in the sphere become air bubbles:"
   ]
  },
  {
   "cell_type": "code",
   "execution_count": 10,
   "metadata": {},
   "outputs": [],
   "source": [
    "m_air[\"VarFloat3\"][\"refraction_index\"] = [1, 1, 1]\n",
    "optix.update_material(\"air\", m_air, refresh=True)"
   ]
  },
  {
   "cell_type": "markdown",
   "metadata": {},
   "source": [
    "Let's see how the *diffuse* material is defined:"
   ]
  },
  {
   "cell_type": "code",
   "execution_count": 11,
   "metadata": {},
   "outputs": [
    {
     "name": "stdout",
     "output_type": "stream",
     "text": [
      "{'RadianceProgram': 'materials7.ptx::__closesthit__radiance__diffuse', 'OcclusionProgram': 'materials7.ptx::__closesthit__occlusion', 'VarUInt': {'flags': 2}}\n"
     ]
    }
   ],
   "source": [
    "print(m_textured)"
   ]
  },
  {
   "cell_type": "markdown",
   "metadata": {},
   "source": [
    "Add texture from the file. Note that format for color textures has to be ``Float4`` (this is the texture format, source file can be anything: color or grayscale, ``Float4`` is default value and can be omitted). Use ``Gamma`` field to preserve original image colors in postprocessing."
   ]
  },
  {
   "cell_type": "code",
   "execution_count": 12,
   "metadata": {},
   "outputs": [],
   "source": [
    "optix.update_data(\"bigblock\", c=1) # texture is multiplied by the primitive color, so make it neutral\n",
    "\n",
    "optix.load_texture(\"yellow\", r\"data/side_d.png\", rt_format=RtFormat.Float4, gamma=gamma)\n",
    "m_textured[\"ColorTextures\"] = [ \"yellow\" ]\n",
    "\n",
    "optix.update_material(\"tex\", m_textured, refresh=True)"
   ]
  },
  {
   "cell_type": "markdown",
   "metadata": {},
   "source": [
    "Mutiple textures are projected on different walls of geometry primitives."
   ]
  },
  {
   "cell_type": "code",
   "execution_count": 13,
   "metadata": {},
   "outputs": [],
   "source": [
    "optix.load_texture(\"green\", r\"data/side_c.png\", gamma=gamma)\n",
    "optix.load_texture(\"blue\", r\"data/side_b.png\", gamma=gamma)\n",
    "m_textured[\"ColorTextures\"] = [ \"green\", \"blue\", \"yellow\" ]\n",
    "\n",
    "optix.update_material(\"tex\", m_textured, refresh=True)"
   ]
  },
  {
   "cell_type": "markdown",
   "metadata": {},
   "source": [
    "Texture can be prepared algorithmically as well. Note how texture is multiplied by the primitive colors."
   ]
  },
  {
   "cell_type": "code",
   "execution_count": 14,
   "metadata": {},
   "outputs": [],
   "source": [
    "mx = (-1, 1)\n",
    "mz = (-1, 1)\n",
    "nm = 20\n",
    "\n",
    "x = np.linspace(mx[0], mx[1], nm)\n",
    "z = np.linspace(mz[0], mz[1], nm)\n",
    "\n",
    "Mx, Mz = np.meshgrid(x, z)\n",
    "M = np.abs(Mx) ** 4 + np.abs(Mz) ** 4\n",
    "M = 1 - (0.5 / np.max(M)) * M\n",
    "\n",
    "Ma = make_color_2d(M, gamma=gamma, channel_order=\"RGBA\") # make RGBA array, accounting for gamma correction"
   ]
  },
  {
   "cell_type": "code",
   "execution_count": 15,
   "metadata": {},
   "outputs": [],
   "source": [
    "optix.set_texture_2d(\"gray\", Ma)\n",
    "m_diffuse[\"ColorTextures\"] = [ \"gray\" ]\n",
    "\n",
    "optix.update_material(\"diffuse\", m_diffuse, refresh=True)"
   ]
  },
  {
   "cell_type": "markdown",
   "metadata": {},
   "source": [
    "Close GUI window, release resources."
   ]
  },
  {
   "cell_type": "code",
   "execution_count": 16,
   "metadata": {},
   "outputs": [],
   "source": [
    "optix.close()"
   ]
  }
 ],
 "metadata": {
  "kernelspec": {
   "display_name": "Python 3 (ipykernel)",
   "language": "python",
   "name": "python3"
  },
  "language_info": {
   "codemirror_mode": {
    "name": "ipython",
    "version": 3
   },
   "file_extension": ".py",
   "mimetype": "text/x-python",
   "name": "python",
   "nbconvert_exporter": "python",
   "pygments_lexer": "ipython3",
   "version": "3.10.6"
  }
 },
 "nbformat": 4,
 "nbformat_minor": 2
}
