{
 "cells": [
  {
   "cell_type": "markdown",
   "metadata": {},
   "source": [
    "## High dynamic range and environment maps\n",
    "\n",
    "This example shows how to read a HDR image and setup it as an environment map in the scene background. Files prepared in\n",
    "the notebook 10_1 are used."
   ]
  },
  {
   "cell_type": "code",
   "execution_count": 1,
   "metadata": {},
   "outputs": [],
   "source": [
    "import numpy as np\n",
    "from plotoptix import TkOptiX\n",
    "from plotoptix.utils import make_color_2d"
   ]
  },
  {
   "cell_type": "markdown",
   "metadata": {},
   "source": [
    "Setup ray tracing parameters:"
   ]
  },
  {
   "cell_type": "code",
   "execution_count": 2,
   "metadata": {
    "scrolled": true
   },
   "outputs": [],
   "source": [
    "rt = TkOptiX()\n",
    "rt.set_param(\n",
    "    min_accumulation_step=2,\n",
    "    max_accumulation_frames=30\n",
    ")\n",
    "\n",
    "exposure = 1; gamma = 2.2\n",
    "rt.set_float(\"tonemap_exposure\", exposure)\n",
    "rt.set_float(\"tonemap_gamma\", gamma)\n",
    "rt.set_float(\"denoiser_blend\", 0.2)\n",
    "rt.add_postproc(\"Denoiser\")\n",
    "\n",
    "rt.set_ambient([0.4, 0.6, 0.8])\n",
    "rt.set_background(0)"
   ]
  },
  {
   "cell_type": "markdown",
   "metadata": {},
   "source": [
    "Camera:"
   ]
  },
  {
   "cell_type": "code",
   "execution_count": 3,
   "metadata": {},
   "outputs": [],
   "source": [
    "rt.setup_camera(\"cam1\", cam_type=\"DoF\",\n",
    "                eye=[-3.5, 2, 3.5], target=[0, 0, 0], up=[0, 1, 0],\n",
    "                aperture_radius=0.07, fov=50, focal_scale=0.8)"
   ]
  },
  {
   "cell_type": "markdown",
   "metadata": {},
   "source": [
    "And some data to display:"
   ]
  },
  {
   "cell_type": "code",
   "execution_count": 4,
   "metadata": {},
   "outputs": [],
   "source": [
    "xyz = np.mgrid[-1.0:1.0:0.25, -1.0:1.0:0.25, -1.0:1.0:0.25].reshape(3,-1).T\n",
    "\n",
    "# set u and v - makes regular orientation of blocks\n",
    "#rt.set_data(\"blocks\", pos=xyz, u=[0.2,0,0], v=[0,0.2,0], c=0.7, geom=\"Parallelepipeds\")\n",
    "\n",
    "# set u vectors only, blocks are randomly rotated\n",
    "rt.set_data(\"blocks\", pos=xyz, u=[0.2,0,0], c=0.7, geom=\"Parallelepipeds\")"
   ]
  },
  {
   "cell_type": "markdown",
   "metadata": {},
   "source": [
    "Open the GUI window:"
   ]
  },
  {
   "cell_type": "code",
   "execution_count": 5,
   "metadata": {
    "scrolled": true
   },
   "outputs": [],
   "source": [
    "rt.show()"
   ]
  },
  {
   "cell_type": "markdown",
   "metadata": {},
   "source": [
    "Set background to the environment map prepared in the previous example. Try 8, 16 and 32 bit/sample color depths. **Note** that the texture has to account for the gamma correction to keep the original colors."
   ]
  },
  {
   "cell_type": "code",
   "execution_count": 6,
   "metadata": {},
   "outputs": [],
   "source": [
    "rt.set_background(\"rt_output_16bps.tif\", gamma=gamma)\n",
    "\n",
    "# background texture loaded explicitly, this is what set_background() does when you pass a file name to it\n",
    "#rt.load_texture(\"bg_texture\", \"rt_output_16bps.tif\", gamma=gamma)\n",
    "\n",
    "rt.set_background_mode(\"TextureEnvironment\")"
   ]
  },
  {
   "cell_type": "markdown",
   "metadata": {},
   "source": [
    "Use HDR image saved in Radiance file (OpenCV required):"
   ]
  },
  {
   "cell_type": "code",
   "execution_count": 7,
   "metadata": {},
   "outputs": [
    {
     "name": "stdout",
     "output_type": "stream",
     "text": [
      "float32 (1084, 1924, 3) 1.203125\n"
     ]
    }
   ],
   "source": [
    "import cv2\n",
    "\n",
    "img = cv2.imread(\"rt_output_32bps.hdr\", cv2.IMREAD_UNCHANGED) # IMREAD_UNCHANGED required to read the 32bps data\n",
    "print(img.dtype, img.shape, np.max(img))"
   ]
  },
  {
   "cell_type": "code",
   "execution_count": 8,
   "metadata": {},
   "outputs": [
    {
     "name": "stdout",
     "output_type": "stream",
     "text": [
      "float32 (1084, 1924, 4) 1.5020474\n"
     ]
    }
   ],
   "source": [
    "img = make_color_2d(img, gamma=gamma, channel_order=\"BGRA\") # need to account for gamma correction and convert to BGRA format\n",
    "print(img.dtype, img.shape, np.max(img))"
   ]
  },
  {
   "cell_type": "code",
   "execution_count": 9,
   "metadata": {},
   "outputs": [],
   "source": [
    "rt.set_background(img, refresh=True)\n",
    "\n",
    "# background texture loaded explicitly, this is what set_background() does when you pass an array to it\n",
    "#rt.set_texture_2d(\"bg_texture\", img, refresh=True)"
   ]
  },
  {
   "cell_type": "code",
   "execution_count": 10,
   "metadata": {},
   "outputs": [],
   "source": [
    "rt.close()"
   ]
  }
 ],
 "metadata": {
  "kernelspec": {
   "display_name": "Python 3 (ipykernel)",
   "language": "python",
   "name": "python3"
  },
  "language_info": {
   "codemirror_mode": {
    "name": "ipython",
    "version": 3
   },
   "file_extension": ".py",
   "mimetype": "text/x-python",
   "name": "python",
   "nbconvert_exporter": "python",
   "pygments_lexer": "ipython3",
   "version": "3.10.6"
  }
 },
 "nbformat": 4,
 "nbformat_minor": 2
}
