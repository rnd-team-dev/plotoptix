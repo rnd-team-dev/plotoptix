{
 "cells": [
  {
   "cell_type": "markdown",
   "metadata": {},
   "source": [
    "## Create an animation\n",
    "This example uses callbacks to create an animation displayed in the matplotlib figure.\n",
    "\n",
    "In order to efficiently use CPU and GPU, PlotOptiX runs two parallel threads, each with its own callbacks.\n",
    "1. Raytracing thread, with callbacks:\n",
    "   - `on_launch_finished` executed after each `min_accumulation_step` frames are raytraced,\n",
    "   - `on_rt_accum_done` executed after `max_accumulation_frames` are raytraced,\n",
    "   - `_scene_rt_starting_callback` is available here (but only for derived GUI classes).\n",
    "2. Scene compute and update of GPU data callbacks:\n",
    "   - `on_scene_compute` executed at the start of the raytracing, allowing for CPU computations in parallel to the raytracing,\n",
    "   - `on_rt_completed` executed after the raytracing is completed, allowing for synchronized update of data without collisions with the image computations on GPU.\n",
    "   User can suspend/resume execution of these two callbacks at any time in the program.\n",
    "   \n",
    "One more callback, `on_initialization`, completes the picture. It is executed once, just before the raytracing thread is started: during construction, if `start_now=True` is set, or otherwise, when `start()` method is called."
   ]
  },
  {
   "cell_type": "code",
   "execution_count": 1,
   "metadata": {},
   "outputs": [],
   "source": [
    "%matplotlib widget\n",
    "import matplotlib.pyplot as plt # will show PlotOptiX output inline\n",
    "\n",
    "import math\n",
    "import numpy as np\n",
    "from plotoptix import NpOptiX"
   ]
  },
  {
   "cell_type": "code",
   "execution_count": 2,
   "metadata": {},
   "outputs": [],
   "source": [
    "class params():\n",
    "    n = 10\n",
    "    a = 5\n",
    "    s = a / n\n",
    "    xyz = np.mgrid[0:a:s, 0:a:s, 0:a:s].reshape(3,-1).T\n",
    "    m = xyz.shape[0]\n",
    "    u = np.zeros((m,3)); u[:,0] = s\n",
    "    v = np.zeros((m,3)); v[:,1] = s\n",
    "    w = np.zeros((m,3)); w[:,2] = s\n",
    "    t = 0"
   ]
  },
  {
   "cell_type": "code",
   "execution_count": 3,
   "metadata": {},
   "outputs": [],
   "source": [
    "def init(rt: NpOptiX) -> None: # configure data and scene at initialization\n",
    "    rt.set_data(\"plot\", pos=params.xyz, u=params.u, v=params.v, w=params.w, geom=\"Parallelepipeds\")\n",
    "    rt.set_param(min_accumulation_step=4, max_accumulation_frames=100)\n",
    "    rt.setup_camera(\"cam1\", eye=[10, 10, 10], fov=40)\n",
    "    rt.setup_light(\"light1\", color=10*np.array([0.99, 0.95, 0.91]), radius=4) # default position fits current camera\n",
    "    rt.set_ambient([0.1, 0.2, 0.3]) # bluish ambient light\n",
    "    rt.set_background(0)            # black background\n",
    "    rt.add_postproc(\"Denoiser\")     # denoise each frame"
   ]
  },
  {
   "cell_type": "code",
   "execution_count": 4,
   "metadata": {},
   "outputs": [],
   "source": [
    "def compute(rt: NpOptiX, delta: int) -> None: # compute scene updates in parallel to the raytracing\n",
    "    params.t += 0.02 * delta\n",
    "    cost = math.cos(params.t)\n",
    "    sint = math.sin(params.t)\n",
    "    pia = math.pi / params.a\n",
    "    for i in range(params.m):\n",
    "        params.u[i] = params.s * 0.5*(1 + math.sin(pia * params.xyz[i,0] + 1.7 * params.t)) * np.array([cost, sint, 0])\n",
    "        params.v[i] = params.s * 0.5*(1 + math.sin(pia * params.xyz[i,1] + 1.3 * params.t)) * np.array([-sint, cost, 0])\n",
    "        params.w[i] = 0.5*(1 + math.sin(2 * pia * params.xyz[i,2] + params.t)) * np.array([0, 0, params.s])"
   ]
  },
  {
   "cell_type": "code",
   "execution_count": 5,
   "metadata": {},
   "outputs": [],
   "source": [
    "def update_data(rt: NpOptiX) -> None:         # this is the place to update data (raytracing is finished here)\n",
    "    rt.update_data(\"plot\", u=params.u, v=params.v, w=params.w)"
   ]
  },
  {
   "cell_type": "code",
   "execution_count": 6,
   "metadata": {},
   "outputs": [],
   "source": [
    "def update_image(rt: NpOptiX) -> None:        # update your image here\n",
    "    imgplot.set_data(rt._img_rgba) # safe to read the image directly, it is locked during the callback\n",
    "    plt.draw()"
   ]
  },
  {
   "cell_type": "code",
   "execution_count": 7,
   "metadata": {},
   "outputs": [
    {
     "data": {
      "application/vnd.jupyter.widget-view+json": {
       "model_id": "20accc36af3e490da9c65831d8a98742",
       "version_major": 2,
       "version_minor": 0
      },
      "image/png": "[encoded data removed]",
      "text/html": [
       "\n",
       "            <div style=\"display: inline-block;\">\n",
       "                <div class=\"jupyter-widgets widget-label\" style=\"text-align: center;\">\n",
       "                    Figure\n",
       "                </div>\n",
       "                <img src='data:image/png;base64,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' width=640.0/>\n",
       "            </div>\n",
       "        "
      ],
      "text/plain": [
       "Canvas(toolbar=Toolbar(toolitems=[('Home', 'Reset original view', 'home', 'home'), ('Back', 'Back to previous …"
      ]
     },
     "metadata": {},
     "output_type": "display_data"
    }
   ],
   "source": [
    "width = height = 500 # square 500x500 pixels\n",
    "imgplot = plt.imshow(np.zeros((height, width, 4), dtype=np.uint8))"
   ]
  },
  {
   "cell_type": "code",
   "execution_count": 8,
   "metadata": {},
   "outputs": [],
   "source": [
    "optix = NpOptiX(\n",
    "    on_initialization=init,\n",
    "    on_scene_compute=compute,\n",
    "    on_rt_completed=update_data,\n",
    "    on_launch_finished=update_image,\n",
    "    width=width, height=height,\n",
    "    start_now=True)"
   ]
  },
  {
   "cell_type": "markdown",
   "metadata": {},
   "source": [
    "The `on_scene_compute` - `on_rt_completed` callbacks can be paused/resumed. Raytracing is still running, until the `max_accumulation_frames` is reached. You can run the two following cells multiple times and see how the image is smoothed out during pause."
   ]
  },
  {
   "cell_type": "code",
   "execution_count": 9,
   "metadata": {},
   "outputs": [],
   "source": [
    "optix.pause_compute()"
   ]
  },
  {
   "cell_type": "code",
   "execution_count": 10,
   "metadata": {},
   "outputs": [],
   "source": [
    "optix.resume_compute()"
   ]
  },
  {
   "cell_type": "markdown",
   "metadata": {},
   "source": [
    "Finally, `close()` method stops the raytracing which cannot be restarted from that point."
   ]
  },
  {
   "cell_type": "code",
   "execution_count": 11,
   "metadata": {},
   "outputs": [],
   "source": [
    "optix.close()"
   ]
  }
 ],
 "metadata": {
  "kernelspec": {
   "display_name": "Python 3 (ipykernel)",
   "language": "python",
   "name": "python3"
  },
  "language_info": {
   "codemirror_mode": {
    "name": "ipython",
    "version": 3
   },
   "file_extension": ".py",
   "mimetype": "text/x-python",
   "name": "python",
   "nbconvert_exporter": "python",
   "pygments_lexer": "ipython3",
   "version": "3.10.6"
  }
 },
 "nbformat": 4,
 "nbformat_minor": 2
}
