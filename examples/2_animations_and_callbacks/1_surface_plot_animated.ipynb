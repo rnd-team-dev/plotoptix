{
 "cells": [
  {
   "cell_type": "markdown",
   "metadata": {},
   "source": [
    "## Animated surface plot y=f(x,z)\n",
    "\n",
    "This example shows how to:\n",
    "   - create a surface plot\n",
    "   - animate updates of the plot data\n",
    "   - optimize compute load"
   ]
  },
  {
   "cell_type": "code",
   "execution_count": 1,
   "metadata": {},
   "outputs": [],
   "source": [
    "# use \"widget\" \"notebook\" option to display figure between cells\n",
    "# in the browser window - heaviest to the CPU\n",
    "%matplotlib widget\n",
    "\n",
    "# use \"qt\" option to open figure outside the browser, this\n",
    "# reduces CPU load (less interface layers and image copies\n",
    "# between the ray tracer and GUI display)\n",
    "#%matplotlib qt\n",
    "\n",
    "# TkOptiX GUI instead of matplotlib+NpOptix gives the best\n",
    "# performance plus all GUI actions (rotations, focus, etc.);\n",
    "# change import below and raytracer constructor name\n",
    "# (indicated in the code)\n",
    "#from plotoptix import TkOptiX\n",
    "from plotoptix import NpOptiX\n",
    "\n",
    "from plotoptix.utils import map_to_colors, simplex\n",
    "from plotoptix.materials import m_eye_normal_cos\n",
    "\n",
    "import matplotlib.pyplot as plt\n",
    "import numpy as np"
   ]
  },
  {
   "cell_type": "markdown",
   "metadata": {},
   "source": [
    "Make some data. The mesh size and simplex noise calculations are not very significant in this example. You can try much larger meshes."
   ]
  },
  {
   "cell_type": "code",
   "execution_count": 2,
   "metadata": {},
   "outputs": [],
   "source": [
    "class params():\n",
    "    rx = (-1, 16); nx = 180\n",
    "    rz = (0, 10); nz = 100\n",
    "\n",
    "    x = np.linspace(rx[0], rx[1], nx)\n",
    "    z = np.linspace(rz[0], rz[1], nz)\n",
    "\n",
    "    X, Z = np.meshgrid(x, z)\n",
    "    XZ = np.stack((X.flatten(), Z.flatten(), np.full(nx*nz, 1.0, dtype=np.float32))).T.reshape(nz, nx, 3)\n",
    "    XZ = np.ascontiguousarray(XZ, dtype=np.float32)\n",
    "    Y = simplex(XZ)"
   ]
  },
  {
   "cell_type": "markdown",
   "metadata": {},
   "source": [
    "**Setup callback functions**"
   ]
  },
  {
   "cell_type": "code",
   "execution_count": 3,
   "metadata": {},
   "outputs": [],
   "source": [
    "def init(rt):                # configure scene and plot data at initialization\n",
    "    rt.set_param(\n",
    "        min_accumulation_step=16,    # <- smooth out images, good for camera with depth\n",
    "                                     #    of field simulation (DoF), affects GPU load\n",
    "        max_accumulation_frames=50   # <- max number of frames to compute when paused\n",
    "    )\n",
    "    rt.setup_material(\"cos\", m_eye_normal_cos) # setup a very fast-shaded material\n",
    "                                               # (no secondary rays are calculated,\n",
    "                                               # saves lots of GPU time)\n",
    "        \n",
    "    # standard gamma correction (2D postprocessing is almost for free on GPU)\n",
    "    rt.set_float(\"tonemap_exposure\", 0.8)\n",
    "    rt.set_float(\"tonemap_gamma\", 2.2)\n",
    "    rt.add_postproc(\"Gamma\")\n",
    "    \n",
    "    rt.set_background(0)\n",
    "    rt.set_ambient(0.25)\n",
    "\n",
    "    rt.set_data_2d(\"surface\", params.Y,\n",
    "                   range_x=params.rx, range_z=params.rz,\n",
    "                   c=map_to_colors(params.Y, \"OrRd\"),\n",
    "                   mat=\"cos\",         # comment out to use default, diffuse material\n",
    "                                      # (diffuse requires multiple secondary rays)\n",
    "                   make_normals=True)\n",
    "\n",
    "    rt.setup_camera(\"cam1\",\n",
    "                    cam_type=\"DoF\",   # comment out to use default, pinhole camera\n",
    "                                      # (pinhole has no DoF and requires very few\n",
    "                                      # accumulaton frames, for anti-aliasing only)\n",
    "                    eye=[7.5, 1.5, 18],\n",
    "                    aperture_radius=0.2,\n",
    "                    fov=20, focal_scale=0.62)\n",
    "    \n",
    "    rt.setup_light(\"light1\", pos=[2,  5, 20], color=5, radius=4) # not used with m_eye_normal_cos"
   ]
  },
  {
   "cell_type": "code",
   "execution_count": 4,
   "metadata": {},
   "outputs": [],
   "source": [
    "def compute(rt, delta):      # compute scene updates in parallel to the raytracing\n",
    "    params.XZ += 0.03 * delta * np.array([-0.2, 1, 0.4], dtype=np.float32)\n",
    "    params.Y = simplex(params.XZ, params.Y) # compute noise \"in place\""
   ]
  },
  {
   "cell_type": "code",
   "execution_count": 5,
   "metadata": {},
   "outputs": [],
   "source": [
    "def update_data(rt):         # update plot data (raytracing is finished here)\n",
    "    rt.update_data_2d(\"surface\",\n",
    "                      pos=params.Y,\n",
    "                      c=map_to_colors(params.Y, \"OrRd\"))"
   ]
  },
  {
   "cell_type": "code",
   "execution_count": 6,
   "metadata": {},
   "outputs": [],
   "source": [
    "def update_image(rt):        # update your image here (not used with TkOptiX)\n",
    "    imgplot.set_data(rt._img_rgba)\n",
    "    plt.draw()"
   ]
  },
  {
   "cell_type": "markdown",
   "metadata": {},
   "source": [
    "Prepare the output figure:"
   ]
  },
  {
   "cell_type": "code",
   "execution_count": 7,
   "metadata": {},
   "outputs": [
    {
     "data": {
      "application/vnd.jupyter.widget-view+json": {
       "model_id": "b610ae3f54f74f979cb58c9322f3819b",
       "version_major": 2,
       "version_minor": 0
      },
      "image/png": "[encoded data removed]",
      "text/html": [
       "\n",
       "            <div style=\"display: inline-block;\">\n",
       "                <div class=\"jupyter-widgets widget-label\" style=\"text-align: center;\">\n",
       "                    Figure\n",
       "                </div>\n",
       "                <img src='data:image/png;base64,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' width=550.0/>\n",
       "            </div>\n",
       "        "
      ],
      "text/plain": [
       "Canvas(toolbar=Toolbar(toolitems=[('Home', 'Reset original view', 'home', 'home'), ('Back', 'Back to previous …"
      ]
     },
     "metadata": {},
     "output_type": "display_data"
    }
   ],
   "source": [
    "width = 1500; height = 500   # width*height ~ rays_to_trace, directly affects GPU load!\n",
    "\n",
    "plt.figure(1, figsize=(5.5, 2))\n",
    "plt.tight_layout()\n",
    "imgplot = plt.imshow(np.zeros((height, width, 4), dtype=np.uint8))"
   ]
  },
  {
   "cell_type": "code",
   "execution_count": 8,
   "metadata": {},
   "outputs": [],
   "source": [
    "optix = NpOptiX(                     # change to TkOptiX for the lowest CPU load\n",
    "    on_initialization=init,\n",
    "    on_scene_compute=compute,\n",
    "    on_rt_completed=update_data,\n",
    "    on_launch_finished=update_image, # comment out if TkOptiX is used\n",
    "    width=width, height=height,\n",
    "    start_now=True)"
   ]
  },
  {
   "cell_type": "markdown",
   "metadata": {},
   "source": [
    "The `on_scene_compute` - `on_rt_completed` callbacks can be paused/resumed. Raytracing is still running, until the `max_accumulation_frames` is reached. You can run the two following cells multiple times and see how the image is smoothed out during pause."
   ]
  },
  {
   "cell_type": "code",
   "execution_count": 9,
   "metadata": {},
   "outputs": [],
   "source": [
    "optix.pause_compute()"
   ]
  },
  {
   "cell_type": "code",
   "execution_count": 10,
   "metadata": {},
   "outputs": [],
   "source": [
    "optix.resume_compute()"
   ]
  },
  {
   "cell_type": "markdown",
   "metadata": {},
   "source": [
    "Stop all (raytracing cannot be restarted from that point):"
   ]
  },
  {
   "cell_type": "code",
   "execution_count": 11,
   "metadata": {},
   "outputs": [],
   "source": [
    "optix.close()"
   ]
  }
 ],
 "metadata": {
  "kernelspec": {
   "display_name": "Python 3 (ipykernel)",
   "language": "python",
   "name": "python3"
  },
  "language_info": {
   "codemirror_mode": {
    "name": "ipython",
    "version": 3
   },
   "file_extension": ".py",
   "mimetype": "text/x-python",
   "name": "python",
   "nbconvert_exporter": "python",
   "pygments_lexer": "ipython3",
   "version": "3.10.6"
  }
 },
 "nbformat": 4,
 "nbformat_minor": 2
}
