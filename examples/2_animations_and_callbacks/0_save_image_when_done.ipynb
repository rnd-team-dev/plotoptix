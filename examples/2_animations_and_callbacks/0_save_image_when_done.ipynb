{
 "cells": [
  {
   "cell_type": "markdown",
   "metadata": {},
   "source": [
    "## Save image when ray tracing completed\n",
    "\n",
    "This example shows how to use `on_rt_accum_done` callback to save image when accumulation is finished. Tk GUI is used and the image is saved after each interactive action (rotation, etc), when accumulation arrives to the last frame."
   ]
  },
  {
   "cell_type": "code",
   "execution_count": 1,
   "metadata": {},
   "outputs": [],
   "source": [
    "import numpy as np\n",
    "from plotoptix import TkOptiX\n",
    "from plotoptix.materials import m_clear_glass, m_plastic"
   ]
  },
  {
   "cell_type": "markdown",
   "metadata": {},
   "source": [
    "Callback executed when the last accumulation frame is completed:"
   ]
  },
  {
   "cell_type": "code",
   "execution_count": 2,
   "metadata": {},
   "outputs": [],
   "source": [
    "def save_image(rt: TkOptiX) -> None:\n",
    "    rt.save_image(\"teapot.png\")\n",
    "    print(\"rt completed!\")"
   ]
  },
  {
   "cell_type": "markdown",
   "metadata": {},
   "source": [
    "Setup the raytracer:"
   ]
  },
  {
   "cell_type": "code",
   "execution_count": 3,
   "metadata": {},
   "outputs": [],
   "source": [
    "rt = TkOptiX(on_rt_accum_done=save_image, start_now=False)"
   ]
  },
  {
   "cell_type": "code",
   "execution_count": 4,
   "metadata": {},
   "outputs": [],
   "source": [
    "rt.set_param(min_accumulation_step=2,      # update image every 2 frames\n",
    "             max_accumulation_frames=20,   # accumulate 20 frames\n",
    "             light_shading=\"Hard\")         # best caustics\n",
    "rt.set_uint(\"path_seg_range\", 15, 30)      # allow many reflections/refractions\n",
    "\n",
    "rt.setup_material(\"glass\", m_clear_glass)\n",
    "rt.setup_material(\"plastic\", m_plastic)\n",
    "\n",
    "rt.set_float(\"tonemap_exposure\", 0.4)      # sRGB tonning and AI denoising\n",
    "rt.set_float(\"tonemap_gamma\", 2.2)\n",
    "rt.set_float(\"denoiser_blend\", 0.3)\n",
    "rt.add_postproc(\"Denoiser\")\n",
    "\n",
    "rt.set_background(0)\n",
    "rt.set_ambient(0)"
   ]
  },
  {
   "cell_type": "markdown",
   "metadata": {},
   "source": [
    "Prepare a simple scene objects, camera and lights:"
   ]
  },
  {
   "cell_type": "code",
   "execution_count": 5,
   "metadata": {},
   "outputs": [],
   "source": [
    "pos = [[1, 0, 0], [21, 0, 0], [-0.5, 0, 20], [20, 0, 21]]\n",
    "v = [[0, 40, 0], [0, 35, 0], [0, 25, 0], [0, 5, 0]]\n",
    "u=[19, 0, 0]; w=[0, 0, 19.5]\n",
    "c = [[0.95, 0.95, 0.95], [0.1, 0.2, 0.3], [0.95, 0.95, 0.95], [0.95, 0.95, 0.95]]"
   ]
  },
  {
   "cell_type": "code",
   "execution_count": 6,
   "metadata": {},
   "outputs": [],
   "source": [
    "rt.set_data(\"plane\", geom=\"Parallelograms\", pos=[[-100, -0.1, -100]], u=[200, 0, 0], v=[0, 0, 200], c=0.95)\n",
    "rt.set_data(\"blocks\", geom=\"Parallelepipeds\", mat=\"plastic\", pos=pos, u=u, v=v, w=w, c=c)\n",
    "rt.set_data(\"ball\", geom=\"ParticleSet\", pos=[[19, 1.5, 43]], r=1.5, c=[0.7, 0.1, 0])\n",
    "rt.load_merged_mesh_obj(\"../1_basics/data/utah-teapot.obj\", \"teapot\", mat=\"glass\", c=[12, 9.5, 6])\n",
    "rt.load_merged_mesh_obj(\"../1_basics/data/wineglass.obj\", \"wineglass\", mat=\"glass\", c=10, make_normals=True)"
   ]
  },
  {
   "cell_type": "code",
   "execution_count": 7,
   "metadata": {},
   "outputs": [],
   "source": [
    "rt.rotate_primitive(\"blocks\", 3, [0, 0.02*np.pi, 0])\n",
    "\n",
    "rt.scale_geometry(\"teapot\", s=0.425)\n",
    "rt.move_geometry(\"teapot\", v=[26, 24, 30])\n",
    "rt.rotate_geometry(\"teapot\", [0.2*np.pi, 0.1*np.pi, -0.25*np.pi])\n",
    "\n",
    "rt.scale_geometry(\"wineglass\", s=1.8)\n",
    "rt.move_geometry(\"wineglass\", v=[32, 11, 32])\n",
    "rt.rotate_geometry(\"wineglass\", [0, 0.2*np.pi, 0.65*np.pi])"
   ]
  },
  {
   "cell_type": "code",
   "execution_count": 8,
   "metadata": {},
   "outputs": [],
   "source": [
    "rt.setup_camera(\"cam1\", cam_type=\"DoF\", eye=[77, 34, 97], target=[20, 14, 23],\n",
    "                aperture_radius=2.7, aperture_fract=0.3,\n",
    "                fov=30, focal_scale=0.837)\n",
    "rt.setup_light(\"light1\", pos=[40, 65, 20], color=[15, 13, 11], radius=12)\n",
    "rt.setup_light(\"light2\", pos=[20, 30, 90], color=[15, 18, 20], radius=10)"
   ]
  },
  {
   "cell_type": "markdown",
   "metadata": {},
   "source": [
    "Open Tk GUI window and start ray tracing. Message is printed when callback is executed, you can go for a coffee if your GPU is < $1k."
   ]
  },
  {
   "cell_type": "code",
   "execution_count": 9,
   "metadata": {},
   "outputs": [
    {
     "name": "stdout",
     "output_type": "stream",
     "text": [
      "rt completed!\n"
     ]
    }
   ],
   "source": [
    "rt.start()"
   ]
  },
  {
   "cell_type": "markdown",
   "metadata": {},
   "source": [
    "Close the ray tracing instance:"
   ]
  },
  {
   "cell_type": "code",
   "execution_count": 10,
   "metadata": {},
   "outputs": [],
   "source": [
    "rt.close()"
   ]
  }
 ],
 "metadata": {
  "kernelspec": {
   "display_name": "Python 3 (ipykernel)",
   "language": "python",
   "name": "python3"
  },
  "language_info": {
   "codemirror_mode": {
    "name": "ipython",
    "version": 3
   },
   "file_extension": ".py",
   "mimetype": "text/x-python",
   "name": "python",
   "nbconvert_exporter": "python",
   "pygments_lexer": "ipython3",
   "version": "3.9.7"
  }
 },
 "nbformat": 4,
 "nbformat_minor": 2
}
