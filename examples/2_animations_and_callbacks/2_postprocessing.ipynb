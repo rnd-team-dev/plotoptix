{
 "cells": [
  {
   "cell_type": "markdown",
   "metadata": {},
   "source": [
    "## Image postprocessing\n",
    "\n",
    "This example shows how to:\n",
    "   - setup and apply 2D postprocessing algorithms\n",
    "   - display and live update histogram of the raytracing output"
   ]
  },
  {
   "cell_type": "code",
   "execution_count": 1,
   "metadata": {},
   "outputs": [],
   "source": [
    "# use \"qt\" option to open figures outside the browser, this saves scrolling to see\n",
    "# results after running cells on the other end of the notebook\n",
    "%matplotlib qt\n",
    "\n",
    "# use \"notebook\" option to display figures between cells\n",
    "#%matplotlib notebook\n",
    "\n",
    "import matplotlib.pyplot as plt\n",
    "import numpy as np\n",
    "from plotoptix import NpOptiX"
   ]
  },
  {
   "cell_type": "markdown",
   "metadata": {},
   "source": [
    "Make some data first:"
   ]
  },
  {
   "cell_type": "code",
   "execution_count": 2,
   "metadata": {},
   "outputs": [],
   "source": [
    "def f(x, z): return np.sqrt(x ** 2 + z ** 2)\n",
    "\n",
    "rx = (-1, 1.8)\n",
    "rz = (-1, 1.8)\n",
    "n = 18\n",
    "\n",
    "x = np.linspace(rx[0], rx[1], n)\n",
    "z = np.linspace(rz[0], rz[1], n)\n",
    "\n",
    "X, Z = np.meshgrid(x, z)\n",
    "Y = f(X, Z)\n",
    "\n",
    "# positions of blocks:\n",
    "data = np.stack((X.flatten(), np.zeros(n*n), Z.flatten())).T\n",
    "# height of blocks in Y direction:\n",
    "v = np.zeros(data.shape); v[:,1] = (Y.flatten() + 0.3 * np.random.rand(n*n))[:]\n",
    "# X and Z sizes of blocks:\n",
    "size_u = 0.98 * (rx[1] - rx[0]) / (n - 1)\n",
    "size_w = 0.98 * (rz[1] - rz[0]) / (n - 1)"
   ]
  },
  {
   "cell_type": "markdown",
   "metadata": {},
   "source": [
    "Prepare the figure:"
   ]
  },
  {
   "cell_type": "code",
   "execution_count": 3,
   "metadata": {},
   "outputs": [],
   "source": [
    "width = 800; height = 600 # ray tracing output size in pixels\n",
    "\n",
    "im0 = np.zeros((height, width, 4), dtype=np.uint8)\n",
    "\n",
    "fig = plt.figure(1, figsize=(9.5, 3.5))\n",
    "\n",
    "ax_img = fig.add_subplot(1,2,1)\n",
    "data_img = ax_img.imshow(im0)\n",
    "\n",
    "plt.tick_params(axis='both', which='both',\n",
    "                bottom=False, top=False, left=False, right=False,\n",
    "                labelbottom=False, labelleft=False)\n",
    "ax_hist = fig.add_subplot(1,2,2)\n",
    "steps = np.linspace(0, 1, 256)\n",
    "hr = np.bincount(im0[:,:,0].flatten(), minlength=256)\n",
    "data_hr, = ax_hist.plot(steps, hr, color=(0.7, 0, 0), linewidth=0.6)\n",
    "hg = np.bincount(im0[:,:,1].flatten(), minlength=256)\n",
    "data_hg, = ax_hist.plot(steps, hg, color=(0, 0.7, 0), linewidth=0.6)\n",
    "hb = np.bincount(im0[:,:,2].flatten(), minlength=256)\n",
    "data_hb, = ax_hist.plot(steps, hb, color=(0, 0, 0.7), linewidth=0.6)\n",
    "\n",
    "plt.tight_layout()\n",
    "plt.show()"
   ]
  },
  {
   "cell_type": "markdown",
   "metadata": {},
   "source": [
    "Callback function updating the image and RGB histograms:"
   ]
  },
  {
   "cell_type": "code",
   "execution_count": 4,
   "metadata": {},
   "outputs": [],
   "source": [
    "def update_image(rt: NpOptiX) -> None:\n",
    "    data_img.set_data(rt._img_rgba)\n",
    "    hr = np.bincount(rt._img_rgba[:,:,0].flatten(), minlength=256)\n",
    "    data_hr.set_ydata(hr)\n",
    "    hg = np.bincount(rt._img_rgba[:,:,1].flatten(), minlength=256)\n",
    "    data_hg.set_ydata(hg)\n",
    "    hb = np.bincount(rt._img_rgba[:,:,2].flatten(), minlength=256)\n",
    "    data_hb.set_ydata(hb)\n",
    "    ax_hist.set_ylim(0, 1.1 * np.max([np.max(hr[1:-1]), np.max(hg[1:-1]), np.max(hb[1:-1])]))\n",
    "    plt.draw()"
   ]
  },
  {
   "cell_type": "markdown",
   "metadata": {},
   "source": [
    "Configure `NpOptiX` raytracer:"
   ]
  },
  {
   "cell_type": "code",
   "execution_count": 5,
   "metadata": {},
   "outputs": [],
   "source": [
    "optix = NpOptiX(on_launch_finished=update_image, width=width, height=height, start_now=False)"
   ]
  },
  {
   "cell_type": "code",
   "execution_count": 6,
   "metadata": {},
   "outputs": [],
   "source": [
    "optix.set_param(max_accumulation_frames=50)  # accumulate up tp 50 frames\n",
    "optix.set_background(0)                      # black background\n",
    "optix.set_ambient([0, 0.2, 0.4])             # cold ambient light"
   ]
  },
  {
   "cell_type": "code",
   "execution_count": 7,
   "metadata": {},
   "outputs": [],
   "source": [
    "# camera parameters:\n",
    "optix.setup_camera(\"cam1\", cam_type=\"DoF\",\n",
    "                   eye=[-0.3, 2, -0.3], target=[1, 1, 1], fov=60, focal_scale=0.85)\n",
    "# warm spherical light:\n",
    "optix.setup_light(\"light1\", pos=[3, 4.5, 1], color=[6, 5, 4.5], radius=2)"
   ]
  },
  {
   "cell_type": "markdown",
   "metadata": {},
   "source": [
    "Add plot geometry:"
   ]
  },
  {
   "cell_type": "code",
   "execution_count": 8,
   "metadata": {},
   "outputs": [],
   "source": [
    "optix.set_data(\"blocks\", pos=data, u=[size_u, 0, 0], v=v, w=[0, 0, size_w],\n",
    "               c = np.random.rand(n*n), geom=\"Parallelepipeds\")"
   ]
  },
  {
   "cell_type": "markdown",
   "metadata": {},
   "source": [
    "Start raytracing. Image and histograms should appear in the figure. Image is a bit dark with some burned spots, histogram is quite lef-shifted, and has under/overflows."
   ]
  },
  {
   "cell_type": "code",
   "execution_count": 9,
   "metadata": {
    "scrolled": true
   },
   "outputs": [],
   "source": [
    "optix.start()"
   ]
  },
  {
   "cell_type": "markdown",
   "metadata": {},
   "source": [
    "#### Perfecting the image.\n",
    "Each algorithm has its own parameters which should be configured before adding the postprocessing stage. Set parameter values and call `add_postproc()` once. Algorithms can be re-configured simply by changing parameter values. See [postprocessing docs](https://plotoptix.rnd.team/npoptix_config.html#postprocessing-2d) for other algorithms description. See also postprocessing code in basic examples.\n",
    "\n",
    "---\n",
    "**Levels adjusment:** image values are shifted and scaled linearly to fit provided low / high range into the destination range of <0;1>; small negative low range should largely eliminate underflow visible in the histogram at 0."
   ]
  },
  {
   "cell_type": "code",
   "execution_count": 10,
   "metadata": {},
   "outputs": [],
   "source": [
    "optix.set_float(\"levels_low_range\", -0.01, -0.01, -0.01) # low R, G, B \n",
    "optix.set_float(\"levels_high_range\", 1, 1, 1) # high R, G, B\n",
    "optix.add_postproc(\"Levels\", refresh=True)"
   ]
  },
  {
   "cell_type": "markdown",
   "metadata": {},
   "source": [
    "**Tonal correction:** image values are scaled by `exposure` value and modified according to the correction curve; `np.sqrt` will boost shadows here; `exposure` lowers amount of burned whites visible on the histogram at 1."
   ]
  },
  {
   "cell_type": "code",
   "execution_count": 11,
   "metadata": {
    "scrolled": true
   },
   "outputs": [],
   "source": [
    "optix.set_float(\"tonemap_exposure\", 0.9)\n",
    "optix.set_texture_1d(\"tone_curve_gray\", np.sqrt(np.linspace(0, 1, 64)), refresh=True)\n",
    "optix.add_postproc(\"GrayCurve\", refresh=True)"
   ]
  },
  {
   "cell_type": "markdown",
   "metadata": {},
   "source": [
    "**Re-configuration:** run cells below and find best parameters."
   ]
  },
  {
   "cell_type": "code",
   "execution_count": 12,
   "metadata": {},
   "outputs": [],
   "source": [
    "optix.set_float(\"tonemap_exposure\", 0.5)\n",
    "optix.set_texture_1d(\"tone_curve_gray\", np.sqrt(np.linspace(0, 1, 64)), refresh=True)"
   ]
  },
  {
   "cell_type": "code",
   "execution_count": 13,
   "metadata": {},
   "outputs": [],
   "source": [
    "optix.set_float(\"levels_low_range\", -0.03, -0.02, -0.01) # simple sepia-tone\n",
    "optix.set_float(\"levels_high_range\", 1, 1, 1, refresh=True) # "
   ]
  },
  {
   "cell_type": "markdown",
   "metadata": {},
   "source": [
    "Light position, color and size affects the image as well, of course, so try changing the lighting:"
   ]
  },
  {
   "cell_type": "code",
   "execution_count": 14,
   "metadata": {},
   "outputs": [],
   "source": [
    "# use warmer color, make softer light with a larger radius\n",
    "optix.update_light(\"light1\", pos=[3, 4.5, 1], color=[6, 5, 4], radius=2.5)"
   ]
  },
  {
   "cell_type": "markdown",
   "metadata": {},
   "source": [
    "Stop raytracing (does not close the figure)."
   ]
  },
  {
   "cell_type": "code",
   "execution_count": 15,
   "metadata": {},
   "outputs": [],
   "source": [
    "optix.close()"
   ]
  }
 ],
 "metadata": {
  "kernelspec": {
   "display_name": "Python 3 (ipykernel)",
   "language": "python",
   "name": "python3"
  },
  "language_info": {
   "codemirror_mode": {
    "name": "ipython",
    "version": 3
   },
   "file_extension": ".py",
   "mimetype": "text/x-python",
   "name": "python",
   "nbconvert_exporter": "python",
   "pygments_lexer": "ipython3",
   "version": "3.10.6"
  }
 },
 "nbformat": 4,
 "nbformat_minor": 2
}
