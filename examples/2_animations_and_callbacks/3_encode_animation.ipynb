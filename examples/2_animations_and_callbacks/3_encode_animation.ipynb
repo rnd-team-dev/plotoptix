{
 "cells": [
  {
   "cell_type": "markdown",
   "metadata": {},
   "source": [
    "## Save animation to file(s)\n",
    "\n",
    "This example shows how to use to save animation directly to MP4 video file or to single frame images. Points in bold indicate code related to the encoder."
   ]
  },
  {
   "cell_type": "code",
   "execution_count": 1,
   "metadata": {},
   "outputs": [],
   "source": [
    "%matplotlib widget\n",
    "import matplotlib.pyplot as plt\n",
    "\n",
    "import numpy as np\n",
    "from plotoptix import NpOptiX\n",
    "from plotoptix.utils import make_color, map_to_colors"
   ]
  },
  {
   "cell_type": "markdown",
   "metadata": {},
   "source": [
    "**1. Setup callbacks:** simply rotate the light source around the scene."
   ]
  },
  {
   "cell_type": "code",
   "execution_count": 2,
   "metadata": {},
   "outputs": [],
   "source": [
    "class params():\n",
    "    fps = 25\n",
    "    duration = 20\n",
    "    dt = 2*np.pi / (fps*duration)\n",
    "    p = [20, 12, 0]\n",
    "    t = 0\n",
    "    n = 0\n",
    "\n",
    "def compute(rt: NpOptiX, delta: int) -> None:\n",
    "    params.t += params.dt\n",
    "    params.p = [20*np.cos(params.t), 12, 20*np.sin(params.t)]\n",
    "    params.n += 1\n",
    "    \n",
    "# optionally, save every frame to a separate file using save_image() method\n",
    "def update(rt: NpOptiX) -> None:\n",
    "    rt.update_light(\"light1\", pos=params.p)\n",
    "    #rt.save_image(\"frame_{:05d}.png\".format(params.n))\n",
    "    \n",
    "def redraw(rt):\n",
    "    imgplot.set_data(rt._img_rgba)\n",
    "    plt.draw()"
   ]
  },
  {
   "cell_type": "markdown",
   "metadata": {},
   "source": [
    "Prepare the output figure, create raytracer:"
   ]
  },
  {
   "cell_type": "code",
   "execution_count": 3,
   "metadata": {},
   "outputs": [
    {
     "data": {
      "application/vnd.jupyter.widget-view+json": {
       "model_id": "4b3dd11bc6b9477aac6a7c395c874739",
       "version_major": 2,
       "version_minor": 0
      },
      "image/png": "[encoded data removed]",
      "text/html": [
       "\n",
       "            <div style=\"display: inline-block;\">\n",
       "                <div class=\"jupyter-widgets widget-label\" style=\"text-align: center;\">\n",
       "                    Figure\n",
       "                </div>\n",
       "                <img src='data:image/png;base64,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' width=950.0/>\n",
       "            </div>\n",
       "        "
      ],
      "text/plain": [
       "Canvas(toolbar=Toolbar(toolitems=[('Home', 'Reset original view', 'home', 'home'), ('Back', 'Back to previous …"
      ]
     },
     "metadata": {},
     "output_type": "display_data"
    }
   ],
   "source": [
    "#width = 1920; height = 1080 # use high res if more compute power is at hand\n",
    "width = 960; height = 540\n",
    "\n",
    "plt.figure(1, figsize=(9.5, 5.5))\n",
    "plt.tight_layout()\n",
    "imgplot = plt.imshow(np.zeros((height, width, 4), dtype=np.uint8))"
   ]
  },
  {
   "cell_type": "code",
   "execution_count": 4,
   "metadata": {},
   "outputs": [],
   "source": [
    "optix = NpOptiX(on_scene_compute=compute,\n",
    "                on_rt_completed=update,\n",
    "                on_launch_finished=redraw,\n",
    "                width=width, height=height,\n",
    "                start_now=False)"
   ]
  },
  {
   "cell_type": "markdown",
   "metadata": {},
   "source": [
    "**2. Initialize encoder:** set constant bitrate in Mb/s, or use one of predefined settings. Note that not all players are capable of decoding all settings."
   ]
  },
  {
   "cell_type": "code",
   "execution_count": 5,
   "metadata": {},
   "outputs": [],
   "source": [
    "#optix.encoder_create(fps=20, bitrate=8)\n",
    "optix.encoder_create(fps=20, bitrate=4, profile=\"High\")\n",
    "#optix.encoder_create(fps=20, profile=\"High444\", preset=\"Lossless\")"
   ]
  },
  {
   "cell_type": "markdown",
   "metadata": {},
   "source": [
    "Configure ray tracer:"
   ]
  },
  {
   "cell_type": "code",
   "execution_count": 6,
   "metadata": {},
   "outputs": [],
   "source": [
    "optix.set_param(min_accumulation_step=128,    # 1 animation frame = 128 accumulation frames\n",
    "                max_accumulation_frames=512)  # accumulate 512 frames when paused\n",
    "optix.set_uint(\"path_seg_range\", 5, 10)\n",
    "\n",
    "exposure = 0.8; gamma = 2.2\n",
    "optix.set_float(\"tonemap_exposure\", exposure) # sRGB tonning\n",
    "optix.set_float(\"tonemap_gamma\", gamma)\n",
    "optix.set_float(\"denoiser_blend\", 0.25)\n",
    "optix.add_postproc(\"Denoiser\")\n",
    "\n",
    "optix.set_ambient([0.01, 0.02, 0.03])\n",
    "optix.set_background(0)"
   ]
  },
  {
   "cell_type": "markdown",
   "metadata": {},
   "source": [
    "Prepare a simple scene objects, camera and lights:"
   ]
  },
  {
   "cell_type": "code",
   "execution_count": 7,
   "metadata": {},
   "outputs": [],
   "source": [
    "N = 2000\n",
    "dx = 0.05; max_x = 5\n",
    "ny = 60; my = 4; max_h = 13\n",
    "nz = 50; mz = 2; max_z = 8\n",
    "\n",
    "px = (2 * np.random.randint(2, size=N) - 1) * (1 - 0.03 * np.random.rand(N))\n",
    "py = np.random.randint(ny, size=N)\n",
    "pz = np.random.randint(2*nz+1, size=N) - nz\n",
    "p = np.stack((max_x * px, (max_h/ny) * py, (max_z/nz) * pz)).T\n",
    "\n",
    "pu = [dx, 0, 0]\n",
    "pv = np.zeros((N, 3)); pv[:,1] = (max_h/ny) * (np.random.randint(my, size=N) + 1)\n",
    "pw = np.zeros((N, 3)); pw[:,2] = (max_z/nz) * (np.random.randint(mz, size=N) + 1)\n",
    "\n",
    "M = 70\n",
    "r = 2\n",
    "x = np.linspace(-r, r, M)\n",
    "z = np.linspace(-r, r, M)\n",
    "qx, qz = np.meshgrid(x, z)\n",
    "q = np.stack((qx.flatten(), np.zeros(M*M), qz.flatten())).T\n",
    "qv = np.zeros(q.shape); qv[:,1] = (0.1 + 11 * np.random.rand(M*M)**5)[:]\n",
    "quw = 0.98 * 2 * r / (M - 1)"
   ]
  },
  {
   "cell_type": "markdown",
   "metadata": {},
   "source": [
    "Note `make_color()` method, it preserves colors from the selected palette when gamma correction is applied."
   ]
  },
  {
   "cell_type": "code",
   "execution_count": 8,
   "metadata": {},
   "outputs": [],
   "source": [
    "optix.set_data(\"plane\", geom=\"Parallelograms\", c=[0.9, 0.91, 0.92],\n",
    "               pos=[[-100, -0.01, -100]], u=[200, 0, 0], v=[0, 0, 200])\n",
    "optix.set_data(\"sides\", geom=\"Parallelepipeds\", pos=p, u=pu, v=pv, w=pw, c=0.94)\n",
    "optix.set_data(\"blocks\", geom=\"Parallelepipeds\", pos=q, u=[quw, 0, 0], v=qv, w=[0, 0, quw],\n",
    "               c=make_color(map_to_colors(-qv[:,1], \"YlOrBr\"), exposure=exposure, gamma=gamma))"
   ]
  },
  {
   "cell_type": "code",
   "execution_count": 9,
   "metadata": {},
   "outputs": [],
   "source": [
    "optix.setup_camera(\"cam1\", cam_type=\"DoF\",\n",
    "                   eye=[0, 15, 5], target=[0, 7, 0], up=[0, 0, -1],\n",
    "                   aperture_radius=0.3, aperture_fract=0.2,\n",
    "                   fov=60, focal_scale=0.75, blur=0.2)\n",
    "optix.setup_light(\"light1\", pos=[15, 12, 15], color=[45, 43, 41], radius=2)"
   ]
  },
  {
   "cell_type": "markdown",
   "metadata": {},
   "source": [
    "Start raytracing:"
   ]
  },
  {
   "cell_type": "code",
   "execution_count": 10,
   "metadata": {},
   "outputs": [],
   "source": [
    "optix.start()"
   ]
  },
  {
   "cell_type": "markdown",
   "metadata": {},
   "source": [
    "**3. Start encoder**, save the full 360 deg loop:"
   ]
  },
  {
   "cell_type": "code",
   "execution_count": 11,
   "metadata": {},
   "outputs": [],
   "source": [
    "optix.encoder_start(\"lights.mp4\", params.fps * params.duration)"
   ]
  },
  {
   "cell_type": "markdown",
   "metadata": {},
   "source": [
    "Check where we are with the animation:"
   ]
  },
  {
   "cell_type": "code",
   "execution_count": 12,
   "metadata": {},
   "outputs": [
    {
     "name": "stdout",
     "output_type": "stream",
     "text": [
      "500 14\n"
     ]
    }
   ],
   "source": [
    "print(optix.encoding_frames(), optix.encoded_frames())"
   ]
  },
  {
   "cell_type": "markdown",
   "metadata": {},
   "source": [
    "Optionally, stop before completing all frames (it is possible to restart it again):"
   ]
  },
  {
   "cell_type": "code",
   "execution_count": 13,
   "metadata": {},
   "outputs": [],
   "source": [
    "optix.encoder_stop()"
   ]
  },
  {
   "cell_type": "markdown",
   "metadata": {},
   "source": [
    "Close the ray tracing instance:"
   ]
  },
  {
   "cell_type": "code",
   "execution_count": 14,
   "metadata": {},
   "outputs": [],
   "source": [
    "optix.close()"
   ]
  }
 ],
 "metadata": {
  "kernelspec": {
   "display_name": "Python 3 (ipykernel)",
   "language": "python",
   "name": "python3"
  },
  "language_info": {
   "codemirror_mode": {
    "name": "ipython",
    "version": 3
   },
   "file_extension": ".py",
   "mimetype": "text/x-python",
   "name": "python",
   "nbconvert_exporter": "python",
   "pygments_lexer": "ipython3",
   "version": "3.10.6"
  }
 },
 "nbformat": 4,
 "nbformat_minor": 2
}
