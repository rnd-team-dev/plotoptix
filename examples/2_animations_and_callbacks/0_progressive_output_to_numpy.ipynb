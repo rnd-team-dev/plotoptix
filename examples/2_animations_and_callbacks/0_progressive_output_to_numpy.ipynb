{
 "cells": [
  {
   "cell_type": "markdown",
   "metadata": {},
   "source": [
    "## Use image output to numpy array and display it inline\n",
    "\n",
    "This example shows how to use callback function to read the raytracing output from PlotOptiX on each frame and update image displayed with another package.\n",
    "\n",
    "It is useul e.g. to show promptly the first frame and update it as the progressive raytracing is accumulating more frames, so we also show how to setup the accumulation parameters."
   ]
  },
  {
   "cell_type": "code",
   "execution_count": 1,
   "metadata": {},
   "outputs": [],
   "source": [
    "%matplotlib widget\n",
    "import matplotlib.pyplot as plt # no PlotOptiX UI here, let's use \"something else\" to display the output\n",
    "\n",
    "import numpy as np\n",
    "from plotoptix import NpOptiX"
   ]
  },
  {
   "cell_type": "code",
   "execution_count": 2,
   "metadata": {},
   "outputs": [
    {
     "data": {
      "application/vnd.jupyter.widget-view+json": {
       "model_id": "98566e0eec8f449788c354bcc8de9cda",
       "version_major": 2,
       "version_minor": 0
      },
      "image/png": "[encoded data removed]",
      "text/html": [
       "\n",
       "            <div style=\"display: inline-block;\">\n",
       "                <div class=\"jupyter-widgets widget-label\" style=\"text-align: center;\">\n",
       "                    Figure\n",
       "                </div>\n",
       "                <img src='data:image/png;base64,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' width=640.0/>\n",
       "            </div>\n",
       "        "
      ],
      "text/plain": [
       "Canvas(toolbar=Toolbar(toolitems=[('Home', 'Reset original view', 'home', 'home'), ('Back', 'Back to previous …"
      ]
     },
     "metadata": {},
     "output_type": "display_data"
    }
   ],
   "source": [
    "# square 500x500 pixels\n",
    "width = height = 500\n",
    "\n",
    "# start with an empty image, use our target size and format: width x height, RGBA 8 bit/channel\n",
    "# note: the array shape starts with the height dimension\n",
    "imgplot = plt.imshow(np.zeros((height, width, 4), dtype=np.uint8))"
   ]
  },
  {
   "cell_type": "code",
   "execution_count": 3,
   "metadata": {},
   "outputs": [],
   "source": [
    "def update_image(rt: NpOptiX) -> None:\n",
    "    imgplot.set_data(rt._img_rgba) # safe to read the image directly, it is locked during on_launch_finished callback;\n",
    "    plt.draw()                     # outside callback, use wnd.get_rt_output() to get a copy of the image array"
   ]
  },
  {
   "cell_type": "code",
   "execution_count": 4,
   "metadata": {},
   "outputs": [],
   "source": [
    "# Use on_rt_accum_done callback to update image after all accumulation is completed (may take a while). This callback\n",
    "# is also convenient place to run code on a completed image only, e.g. save it to file.\n",
    "#optix = NpOptiX(on_rt_accum_done=update_image, width=width, height=height, start_now=False)\n",
    "\n",
    "# Use on_rt_completed callback to update image after each accumulation step.\n",
    "optix = NpOptiX(on_launch_finished=update_image, width=width, height=height, start_now=False)\n",
    "\n",
    "optix.set_param(\n",
    "    min_accumulation_step=4,    # no. of frames computed in an atomic step of raytracing (default is 1 frame)\n",
    "    max_accumulation_frames=30  # no. of all frames to compute (default is 4 frames)\n",
    ")\n",
    "\n",
    "optix.set_background(0.99)                   # white background\n",
    "optix.set_ambient([0.1, 0.2, 0.3])           # dim bluish ambient light\n",
    "optix.setup_camera(\"cam1\", eye=[5, -5, -7])  # setup our camera to start with a nice angle\n",
    "optix.setup_light(\"light1\", color=3*np.array([0.9, 0.8, 0.7]), radius=5) # warm light, default position fits current camera"
   ]
  },
  {
   "cell_type": "code",
   "execution_count": 5,
   "metadata": {},
   "outputs": [],
   "source": [
    "n = 100\n",
    "xyz = np.random.random((n, 3))\n",
    "r = np.random.random(n) + 0.01\n",
    "for i in range(n): xyz[i] = r[i] * xyz[i] / np.linalg.norm(xyz[i])\n",
    "    \n",
    "optix.set_data(\"plot\", pos=xyz, r=0.2*r)     # create plot geometry, particles (spheres) are default\n",
    "optix.camera_fit(scale=2)                    # move camera to cover all data in view (scale allows distance adjustments)\n",
    "optix.start()                                # and start raytracing - image appears in the matplotlib figure"
   ]
  },
  {
   "cell_type": "markdown",
   "metadata": {},
   "source": [
    "30 accumulaton frames are used. Configuration of lights and diffuse material results with a noisy image in this example. More frames are needed, or a denoiser."
   ]
  },
  {
   "cell_type": "code",
   "execution_count": 6,
   "metadata": {},
   "outputs": [
    {
     "data": {
      "text/plain": [
       "(200.0, 320.0)"
      ]
     },
     "execution_count": 6,
     "metadata": {},
     "output_type": "execute_result"
    }
   ],
   "source": [
    "plt.xlim(200, 320) # Zoom in on a small section, so we can better appreciate accumulation progress.\n",
    "plt.ylim(200, 320)"
   ]
  },
  {
   "cell_type": "markdown",
   "metadata": {},
   "source": [
    "Increase the number of accumulation frames."
   ]
  },
  {
   "cell_type": "code",
   "execution_count": 7,
   "metadata": {},
   "outputs": [],
   "source": [
    "optix.set_param(max_accumulation_frames=1000) # Run the cell and scroll to the figure - image is updated there live."
   ]
  },
  {
   "cell_type": "markdown",
   "metadata": {},
   "source": [
    "Or, use AI denoiser to improve image quality before accumulation converges."
   ]
  },
  {
   "cell_type": "code",
   "execution_count": 8,
   "metadata": {},
   "outputs": [],
   "source": [
    "optix.set_param(max_accumulation_frames=100) # Go back to a lower number of accumulation frames\n",
    "\n",
    "optix.set_float(\"denoiser_blend\", 0.1) # Change blend for differet mixing with the raw image. Higher value blends in\n",
    "optix.add_postproc(\"Denoiser\")         # more of the raw input image. Range is 0.0 to 1.0."
   ]
  },
  {
   "cell_type": "markdown",
   "metadata": {},
   "source": [
    "Denoising performance depends on the scene content and on the number of accumulation frames. For each case different set of denoiser inputs works best. Try following options:"
   ]
  },
  {
   "cell_type": "code",
   "execution_count": 9,
   "metadata": {},
   "outputs": [],
   "source": [
    "from plotoptix.enums import DenoiserKind\n",
    "optix.set_int(\"denoiser_kind\", DenoiserKind.Rgb.value, refresh=True)\n",
    "#optix.set_int(\"denoiser_kind\", DenoiserKind.RgbAlbedo.value, refresh=True) # default configuration\n",
    "#optix.set_int(\"denoiser_kind\", DenoiserKind.RgbAlbedoNormal.value, refresh=True)"
   ]
  },
  {
   "cell_type": "markdown",
   "metadata": {},
   "source": [
    "Close the raytracing instance and release all resources."
   ]
  },
  {
   "cell_type": "code",
   "execution_count": 10,
   "metadata": {},
   "outputs": [],
   "source": [
    "optix.close()"
   ]
  }
 ],
 "metadata": {
  "kernelspec": {
   "display_name": "Python 3 (ipykernel)",
   "language": "python",
   "name": "python3"
  },
  "language_info": {
   "codemirror_mode": {
    "name": "ipython",
    "version": 3
   },
   "file_extension": ".py",
   "mimetype": "text/x-python",
   "name": "python",
   "nbconvert_exporter": "python",
   "pygments_lexer": "ipython3",
   "version": "3.10.6"
  }
 },
 "nbformat": 4,
 "nbformat_minor": 2
}
